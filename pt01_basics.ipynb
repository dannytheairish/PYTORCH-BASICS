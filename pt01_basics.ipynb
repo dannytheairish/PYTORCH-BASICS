{
 "cells": [
  {
   "cell_type": "markdown",
   "id": "2bdc32e5-692a-46bf-a66d-f880febcc1d8",
   "metadata": {},
   "source": [
    "# Pytorch Basics"
   ]
  },
  {
   "cell_type": "markdown",
   "id": "0e9eb740-ba54-4399-b1e1-79de593bc7ba",
   "metadata": {},
   "source": [
    "## Imports"
   ]
  },
  {
   "cell_type": "code",
   "execution_count": 309,
   "id": "5eb4cb15-0fe8-4703-8203-7b3c0fdd0261",
   "metadata": {},
   "outputs": [],
   "source": [
    "#!pip3 install torch torchvision torchaudio\n",
    "import numpy as np\n",
    "from matplotlib import pyplot as plt\n",
    "import torch\n",
    "import torch.nn as nn\n",
    "#import torch.nn.functional as F"
   ]
  },
  {
   "cell_type": "markdown",
   "id": "4b18bdce-9d0f-4ba8-9b56-b7ce1df954c2",
   "metadata": {
    "tags": []
   },
   "source": [
    "## 1. Simple NeuralNetwork with Pytorch"
   ]
  },
  {
   "cell_type": "markdown",
   "id": "9faded4a-7cb5-4bf5-b415-6e05aa3802a8",
   "metadata": {
    "tags": []
   },
   "source": [
    "### 1.1. Basic Example with MSE Loss function (without Gradient Descent)"
   ]
  },
  {
   "cell_type": "code",
   "execution_count": 304,
   "id": "8d542c81-274a-44d1-b5f0-6e7f2cb58079",
   "metadata": {},
   "outputs": [],
   "source": [
    "def forward(x):\n",
    "    return x*w\n",
    "\n",
    "def loss(x,y_true):\n",
    "    y_pred = forward(x)\n",
    "    return np.sum((y_pred - y_true)**2)/N"
   ]
  },
  {
   "cell_type": "code",
   "execution_count": 305,
   "id": "7b6fa475-07b7-450c-bc93-26057f317235",
   "metadata": {},
   "outputs": [
    {
     "data": {
      "text/plain": [
       "(array([1., 2., 3., 4.], dtype=float32),\n",
       " array([2., 4., 6., 8.], dtype=float32))"
      ]
     },
     "execution_count": 305,
     "metadata": {},
     "output_type": "execute_result"
    }
   ],
   "source": [
    "x = np.array([1,2,3,4],dtype=np.float32)\n",
    "y_true = 2*x\n",
    "x, y_true"
   ]
  },
  {
   "cell_type": "code",
   "execution_count": null,
   "id": "43223777-dbb5-44c1-beaf-a22574b30b36",
   "metadata": {},
   "outputs": [],
   "source": [
    "N = len(x)\n",
    "w = 0.5 # random weight"
   ]
  },
  {
   "cell_type": "code",
   "execution_count": null,
   "id": "73239e50-8cf0-4820-978e-0152a34baf90",
   "metadata": {},
   "outputs": [],
   "source": [
    "y_random = forward(x)\n",
    "y_random"
   ]
  },
  {
   "cell_type": "code",
   "execution_count": null,
   "id": "184c5a78-a700-437c-aabf-6eb1c4f8c492",
   "metadata": {},
   "outputs": [],
   "source": [
    "plt.plot(x,y_true, color=\"blue\", label=\"True function\")\n",
    "plt.plot(x,y_random, color=\"green\", label=\"Random-valued function\")\n",
    "plt.legend()"
   ]
  },
  {
   "cell_type": "code",
   "execution_count": null,
   "id": "c0c1a27c-6c41-4acd-9ba9-70a85cc72c55",
   "metadata": {},
   "outputs": [],
   "source": [
    "list_loss = np.array([])\n",
    "list_w = np.array([])\n",
    "\n",
    "for w in np.arange(0.0,5.0,1.0):\n",
    "    print(\"Loss calculation for w =\",w)\n",
    "    y_pred = forward(x)\n",
    "    l = loss(x,y_true)\n",
    "    \n",
    "    print(f\"optimal: {y_true}, x*w= {y_pred}, loss={l}\")\n",
    "    \n",
    "    if l == 0:\n",
    "        plt.scatter(w,l, color=\"orange\", label=\"Loss = 0\")\n",
    "    else:\n",
    "        plt.scatter(w,l, color=\"blue\", linewidths=0.1)\n",
    "    \n",
    "    list_loss = np.append(list_loss,[l])\n",
    "    list_w = np.append(list_w,[w])\n",
    "    print(list_loss, list_w)\n",
    "\n",
    "plt.plot(list_w,list_loss)\n",
    "plt.xlabel(\"w\")\n",
    "plt.ylabel(\"MSE Loss\")\n",
    "plt.legend()"
   ]
  },
  {
   "cell_type": "code",
   "execution_count": null,
   "id": "2b3dc29e-65a6-4742-80fd-99ad3c2464b8",
   "metadata": {},
   "outputs": [],
   "source": [
    "print(list_loss, list_w)"
   ]
  },
  {
   "cell_type": "code",
   "execution_count": null,
   "id": "8ea84b8c-9fef-41f0-a361-8afd98128a4e",
   "metadata": {},
   "outputs": [],
   "source": [
    "np.argmin(list_loss), list_w[np.argmin(list_loss)]"
   ]
  },
  {
   "cell_type": "code",
   "execution_count": null,
   "id": "918b0587-1aca-4c99-a579-fff1d7bb0beb",
   "metadata": {},
   "outputs": [],
   "source": [
    "w # the value for weight is from the for loop as the last one choosen (begin: 0.0 until 4.0)\n",
    "# we need to assign the right one from one row above with list_w[np.argmin(list_loss)] then for the pred function"
   ]
  },
  {
   "cell_type": "markdown",
   "id": "95f9bd15-40f6-4829-b0f6-046a74d15005",
   "metadata": {
    "tags": []
   },
   "source": [
    "### 1.2. Basic Example with MSE Loss function and active Training (with Gradient descent)"
   ]
  },
  {
   "cell_type": "code",
   "execution_count": null,
   "id": "fa986cf3-cfb7-45ea-82e5-a25efb9784ba",
   "metadata": {},
   "outputs": [],
   "source": [
    "def gradient(x,y_true):\n",
    "    return 2*x*(x*w-y_true)/N"
   ]
  },
  {
   "cell_type": "code",
   "execution_count": null,
   "id": "f5751f08-3d2b-492a-a403-f33ff7fbc0a1",
   "metadata": {},
   "outputs": [],
   "source": [
    "x = np.array([1,2,3],dtype=np.float32)\n",
    "y_true = 2*x\n",
    "x, y_true"
   ]
  },
  {
   "cell_type": "code",
   "execution_count": null,
   "id": "876d88f9-a3b8-4d1a-bec5-b141682bfc12",
   "metadata": {},
   "outputs": [],
   "source": [
    "w = 1.0\n",
    "lr = 0.01"
   ]
  },
  {
   "cell_type": "code",
   "execution_count": null,
   "id": "048868d8-7fe2-4720-9ba2-0dbaca432d2e",
   "metadata": {},
   "outputs": [],
   "source": [
    "print(f\"w0 = {w}\\nx = {x}\\ny={y_true}\")"
   ]
  },
  {
   "cell_type": "code",
   "execution_count": null,
   "id": "d2dbe7b7-d63c-46e2-a6e6-0527ec73f7e9",
   "metadata": {},
   "outputs": [],
   "source": [
    "y_pred = forward(x)\n",
    "y_pred"
   ]
  },
  {
   "cell_type": "code",
   "execution_count": null,
   "id": "743397c8-11ac-4d04-888c-21cfe2c31e4e",
   "metadata": {},
   "outputs": [],
   "source": [
    "gradient(x,y_true)"
   ]
  },
  {
   "cell_type": "code",
   "execution_count": null,
   "id": "08830824-c285-4122-8e24-b2996784263c",
   "metadata": {},
   "outputs": [],
   "source": [
    "forward(4)"
   ]
  },
  {
   "cell_type": "code",
   "execution_count": null,
   "id": "40304410-9b73-4a81-a69a-3cef7f4a6ea1",
   "metadata": {},
   "outputs": [],
   "source": [
    "for epoch in range(100):\n",
    "    \n",
    "    for x_val, y_val in zip(x,y_true):\n",
    "        #print(\"actual values from x and y_true:\",x_val, y_val)\n",
    "        grad = gradient(x_val, y_val)\n",
    "        w = w - lr * grad\n",
    "        l = loss(x_val,y_val)\n",
    "    \n",
    "    if epoch % 10 == 0:\n",
    "        print(f\"Epoch {epoch}:\\ngrad (for {x_val, y_val} - last in this x_val and y_val): {grad}\\nw: {w}, loss: {l:,.3f}\\n\")"
   ]
  },
  {
   "cell_type": "code",
   "execution_count": null,
   "id": "0a666b47-a97b-4c0f-a8b8-5f83f394ba1b",
   "metadata": {},
   "outputs": [],
   "source": [
    "forward(4)"
   ]
  },
  {
   "cell_type": "markdown",
   "id": "517d6e84-7b1c-4978-b549-82e61b13c94d",
   "metadata": {
    "tags": []
   },
   "source": [
    "#### 1.2.1. Example 1 (with 2 weights)"
   ]
  },
  {
   "cell_type": "code",
   "execution_count": null,
   "id": "49b48e51-07cc-43b8-9916-e047a7b5cf03",
   "metadata": {},
   "outputs": [],
   "source": [
    "def function_exercise(x):\n",
    "    return 2*x"
   ]
  },
  {
   "cell_type": "code",
   "execution_count": null,
   "id": "608dbf65-4f8b-410c-8f0a-be3737809675",
   "metadata": {},
   "outputs": [],
   "source": [
    "x = np.array([1,2,3],dtype=np.float32)\n",
    "y_true = function_exercise(x)\n",
    "\n",
    "w1 = 0.5\n",
    "w2 = 0.5\n",
    "b = 0.0\n",
    "\n",
    "#y_pred = x**2*w2+x*w1+b\n",
    "#y_pred, y_true"
   ]
  },
  {
   "cell_type": "code",
   "execution_count": null,
   "id": "7244a52a-001b-4735-a20e-98bfa13a32ae",
   "metadata": {},
   "outputs": [],
   "source": [
    "def forward_exercise(x):\n",
    "    return x**2*w2+x*w1+b"
   ]
  },
  {
   "cell_type": "code",
   "execution_count": null,
   "id": "d996bf8f-59c1-49ee-a743-1af06239c3a0",
   "metadata": {},
   "outputs": [],
   "source": [
    "def gradient_w1(x,y_true):\n",
    "    return 2*x*(x*w1-y_true+x**2*w2+b)\n",
    "\n",
    "def gradient_w2(x,y_true):\n",
    "    return  2*x**2*(x**2*w2-y_true+x*w1+b)"
   ]
  },
  {
   "cell_type": "code",
   "execution_count": null,
   "id": "f3aa3f3a-6001-41f0-b6ef-1338657281b0",
   "metadata": {},
   "outputs": [],
   "source": [
    "gradient_w1(x,y_true)"
   ]
  },
  {
   "cell_type": "code",
   "execution_count": null,
   "id": "1e75a2a0-72a1-4f41-a8bf-e38c6e866536",
   "metadata": {},
   "outputs": [],
   "source": [
    "gradient_w2(x,y_true)"
   ]
  },
  {
   "cell_type": "code",
   "execution_count": null,
   "id": "843b0ee8-5220-4997-b0ec-810bb7dd9793",
   "metadata": {},
   "outputs": [],
   "source": [
    "forward_exercise(x) # function which we will train st. it is equal to y_true (2*x)"
   ]
  },
  {
   "cell_type": "code",
   "execution_count": null,
   "id": "d338c4ac-a6e4-4d0a-aaa0-5adfdb8fe8f7",
   "metadata": {},
   "outputs": [],
   "source": [
    "y_true"
   ]
  },
  {
   "cell_type": "code",
   "execution_count": null,
   "id": "ba0c3654-6d1f-4918-8afe-0ddf92b168d6",
   "metadata": {},
   "outputs": [],
   "source": [
    "for epoch in range(100):\n",
    "    \n",
    "    for x_val, y_val in zip(x,y_true):\n",
    "        \n",
    "        grad_w1 = gradient_w1(x_val, y_val)\n",
    "        grad_w2 = gradient_w2(x_val, y_val)\n",
    "        w1 = w1 - lr * grad_w1\n",
    "        w2 = w2 - lr * grad_w2\n",
    "        \n",
    "        l = loss(x_val,y_val)\n",
    "    \n",
    "    if epoch % 10 == 0:\n",
    "        print(f\"Epoch {epoch}:\\ngrad (for {x_val, y_val} - last in this x_val and y_val): {grad}\\nw: {w}, loss: {l:,.3f}\\n\")"
   ]
  },
  {
   "cell_type": "code",
   "execution_count": null,
   "id": "bd316a07-a8cd-4820-ab79-081b593ba099",
   "metadata": {},
   "outputs": [],
   "source": [
    "forward_exercise(x) # with more epochs (like 1000) we get a perfect prediction which is equal to y_true (2*x)"
   ]
  },
  {
   "cell_type": "code",
   "execution_count": null,
   "id": "99dfebed-acf6-4468-bfcd-bcdfeee4d0a9",
   "metadata": {},
   "outputs": [],
   "source": [
    "y_true"
   ]
  },
  {
   "cell_type": "markdown",
   "id": "9ec7ec3c-fb10-4d51-9d3a-01930fa89046",
   "metadata": {},
   "source": [
    "### 1.3. Backpropagation and Autograd"
   ]
  },
  {
   "cell_type": "code",
   "execution_count": null,
   "id": "c7a1923b-6b31-443c-aaef-e578198ba409",
   "metadata": {},
   "outputs": [],
   "source": [
    "x = torch.tensor([1.0, 2.0, 3.0])\n",
    "y_true = 2*x\n",
    "x,y_true"
   ]
  },
  {
   "cell_type": "code",
   "execution_count": null,
   "id": "ee69d4b2-d8df-46c4-b86f-2fa40147c56f",
   "metadata": {},
   "outputs": [],
   "source": [
    "lr = 0.01"
   ]
  },
  {
   "cell_type": "code",
   "execution_count": null,
   "id": "4451d702-c507-4722-bceb-24ba46f04484",
   "metadata": {},
   "outputs": [],
   "source": [
    "w = torch.tensor([1.0], requires_grad=True)\n",
    "w"
   ]
  },
  {
   "cell_type": "code",
   "execution_count": null,
   "id": "bd44de43-a781-4030-9404-3df32acfd461",
   "metadata": {},
   "outputs": [],
   "source": [
    "def forward(x):\n",
    "    return x*w\n",
    "\n",
    "def loss(x,y_true):\n",
    "    y_pred = forward(x)\n",
    "    return (y_pred - y_true)**2"
   ]
  },
  {
   "cell_type": "code",
   "execution_count": null,
   "id": "adf6f6e4-7af9-487c-b460-13d592548958",
   "metadata": {},
   "outputs": [],
   "source": [
    "forward(x)"
   ]
  },
  {
   "cell_type": "code",
   "execution_count": null,
   "id": "6da9e1aa-4f3a-4f8d-96ce-639a7e99b294",
   "metadata": {},
   "outputs": [],
   "source": [
    "w.data, w # w.grad.data -> calling und using only after .backward() "
   ]
  },
  {
   "cell_type": "code",
   "execution_count": null,
   "id": "e5a777a0-bb73-4af2-9774-b516a9b632a9",
   "metadata": {
    "tags": []
   },
   "outputs": [],
   "source": [
    "list_loss = np.array([])\n",
    "list_w = np.array([])\n",
    "\n",
    "for epoch in range(50):\n",
    "    \n",
    "    for x_val, y_val in zip(x,y_true):\n",
    "        l = loss(x_val,y_val)\n",
    "        l.backward() # activates w.grad.data and replace grad = gradient(x_val, y_val)\n",
    "        \n",
    "        w.data = w.data - lr * w.grad.data\n",
    "        w.grad.data.zero_() # set the gradients to zero after updating the weights\n",
    "    \n",
    "    if epoch % 10 == 0:\n",
    "        print(f\"update:\\n weight ({w.data}), weight gradient ({w.grad.data}), loss ({l})\")\n",
    "        \n",
    "    list_loss = np.append(list_loss,[l.detach().numpy()])\n",
    "    list_w = np.append(list_w,[w.data.detach().numpy()])"
   ]
  },
  {
   "cell_type": "code",
   "execution_count": null,
   "id": "b6c01147-4532-4a64-91f1-1d089620dd23",
   "metadata": {},
   "outputs": [],
   "source": [
    "list_loss, list_w"
   ]
  },
  {
   "cell_type": "code",
   "execution_count": null,
   "id": "1548967b-ec34-4733-85c5-bd44e2f8b1f9",
   "metadata": {},
   "outputs": [],
   "source": [
    "plt.plot(list_w,list_loss)\n",
    "plt.xlabel(\"w\")\n",
    "plt.ylabel(\"MSE Loss\")"
   ]
  },
  {
   "cell_type": "code",
   "execution_count": null,
   "id": "336ce464-45c0-4bbb-9d8b-8d7b8076dd42",
   "metadata": {},
   "outputs": [],
   "source": [
    "w, w.data"
   ]
  },
  {
   "cell_type": "code",
   "execution_count": null,
   "id": "375d165e-629f-47ce-b110-04566b7726d2",
   "metadata": {},
   "outputs": [],
   "source": [
    "forward(x)"
   ]
  },
  {
   "cell_type": "code",
   "execution_count": null,
   "id": "6a0d0203-a64e-417c-8488-22ea60581954",
   "metadata": {},
   "outputs": [],
   "source": [
    "x"
   ]
  },
  {
   "cell_type": "code",
   "execution_count": null,
   "id": "043b9845-63c5-4a45-82ab-bd57f4922af8",
   "metadata": {},
   "outputs": [],
   "source": [
    "plt.scatter(x.detach().numpy(), forward(x).detach().numpy())"
   ]
  },
  {
   "cell_type": "markdown",
   "id": "ab7943f6-2f3d-4e52-beef-31ee9dfbe048",
   "metadata": {},
   "source": [
    "#### 1.3.1. Exercise"
   ]
  },
  {
   "cell_type": "code",
   "execution_count": null,
   "id": "c0d27961-5e61-4128-b8fb-5ef8f1fb342d",
   "metadata": {},
   "outputs": [],
   "source": [
    "def function_exercise(x):\n",
    "    return 2*x\n",
    "\n",
    "def forward_exercise(x):\n",
    "    return x**2*w2+x*w1+b\n",
    "\n",
    "def loss(x,y_true):\n",
    "    y_pred = forward_exercise(x)\n",
    "    return (y_pred - y_true)**2\n",
    "\n",
    "x = torch.tensor([1.,2.,3.]) \n",
    "y_true = function_exercise(x)\n",
    "\n",
    "lr = 0.01\n",
    "\n",
    "w1 = torch.tensor(0.5, requires_grad=True)\n",
    "w2 = torch.tensor(0.5, requires_grad=True)\n",
    "b = torch.tensor(0.0, requires_grad=True)"
   ]
  },
  {
   "cell_type": "code",
   "execution_count": null,
   "id": "bed63e12-9ec7-4185-b8fa-0ff9657a5c54",
   "metadata": {
    "tags": []
   },
   "outputs": [],
   "source": [
    "w1.data"
   ]
  },
  {
   "cell_type": "code",
   "execution_count": null,
   "id": "9322a7bf-422e-4dc5-a79f-214c55d07161",
   "metadata": {},
   "outputs": [],
   "source": [
    "forward_exercise(x)"
   ]
  },
  {
   "cell_type": "code",
   "execution_count": null,
   "id": "f5887edf-fbfe-4c91-abc4-59bfb48b6788",
   "metadata": {},
   "outputs": [],
   "source": [
    "y_true"
   ]
  },
  {
   "cell_type": "code",
   "execution_count": null,
   "id": "54cd3005-7761-4d58-93ce-a5d0900f265b",
   "metadata": {},
   "outputs": [],
   "source": [
    "print(f\"Before training:\\nPredicted Function with random weights: {forward_exercise(x)}, True Function: {y_true}\\n\\n\") \n",
    "\n",
    "for epoch in range(100):\n",
    "    \n",
    "    for x_val, y_val in zip(x,y_true):\n",
    "        l = loss(x_val, y_val)\n",
    "        l.backward()\n",
    "        \n",
    "        w1.data = w1.data - lr * w1.grad.data\n",
    "        w2.data = w2.data - lr * w2.grad.data\n",
    "        \n",
    "        w1.grad.data.zero_()\n",
    "        w2.grad.data.zero_()\n",
    "        \n",
    "    if epoch % 10 == 0:\n",
    "        print(f\"Epoch {epoch}:\\nWeights: {w1.data, w2.data}, Output: {forward_exercise(x).data} (True function: {y_true}), Loss: {l:,.3f}\\n\")"
   ]
  },
  {
   "cell_type": "markdown",
   "id": "d74c0a18-b1d0-46ab-b779-b96c84bb5eda",
   "metadata": {},
   "source": [
    "### 1.4. Linear Regression"
   ]
  },
  {
   "cell_type": "code",
   "execution_count": 233,
   "id": "d828b571-e3ee-44e6-8917-081f9c3d896e",
   "metadata": {},
   "outputs": [
    {
     "data": {
      "text/plain": [
       "(tensor([[1.],\n",
       "         [2.],\n",
       "         [3.]]),\n",
       " tensor([[2.],\n",
       "         [4.],\n",
       "         [6.]]),\n",
       " torch.Size([3, 1]))"
      ]
     },
     "execution_count": 233,
     "metadata": {},
     "output_type": "execute_result"
    }
   ],
   "source": [
    "x_data = torch.tensor([[1.],[2.],[3.0]])\n",
    "y_data = 2*x_data #torch.tensor([[2.],[4.],[6.0]])\n",
    "x_data, y_data, x_data.shape"
   ]
  },
  {
   "cell_type": "code",
   "execution_count": 234,
   "id": "dc042a2a-31ae-41f7-9f7c-9d7a1f8d2f6c",
   "metadata": {},
   "outputs": [],
   "source": [
    "# Basic Linear regression model\n",
    "class LinearRegression(torch.nn.Module):\n",
    "    def __init__(self):\n",
    "        super(LinearRegression, self).__init__()\n",
    "        \n",
    "        self.linear = torch.nn.Linear(1,1)\n",
    "    \n",
    "    def forward(self, x):\n",
    "        y_pred = self.linear(x)\n",
    "        return y_pred"
   ]
  },
  {
   "cell_type": "code",
   "execution_count": 235,
   "id": "04e5f418-ef39-42ef-9a0d-6cf1445ce5aa",
   "metadata": {},
   "outputs": [],
   "source": [
    "model = LinearRegression()"
   ]
  },
  {
   "cell_type": "code",
   "execution_count": 236,
   "id": "2c88157a-981c-44bf-9b6e-94b1dd25a210",
   "metadata": {},
   "outputs": [
    {
     "name": "stdout",
     "output_type": "stream",
     "text": [
      "tensor([[-0.7558]])\n",
      "tensor([0.6374])\n"
     ]
    }
   ],
   "source": [
    "for param in model.parameters():\n",
    "    print(param.data)"
   ]
  },
  {
   "cell_type": "code",
   "execution_count": 237,
   "id": "88c0dca3-620c-4e78-b605-79fee7973c5d",
   "metadata": {},
   "outputs": [
    {
     "name": "stdout",
     "output_type": "stream",
     "text": [
      "torch.Size([1, 1]) tensor([[-0.7558]])\n"
     ]
    }
   ],
   "source": [
    "print(model.linear.weight.shape, model.linear.weight.data)"
   ]
  },
  {
   "cell_type": "code",
   "execution_count": 238,
   "id": "55e635f4-c52b-4252-be97-8fa5937ff395",
   "metadata": {},
   "outputs": [
    {
     "name": "stdout",
     "output_type": "stream",
     "text": [
      "torch.Size([1]) tensor([0.6374])\n"
     ]
    }
   ],
   "source": [
    "print(model.linear.bias.shape, model.linear.bias.data)"
   ]
  },
  {
   "cell_type": "code",
   "execution_count": 239,
   "id": "b8b25e33-678e-434d-90b6-d733a3a3fc93",
   "metadata": {},
   "outputs": [
    {
     "name": "stdout",
     "output_type": "stream",
     "text": [
      "Parameter containing:\n",
      "tensor([[-0.7558]], requires_grad=True)\n",
      "Parameter containing:\n",
      "tensor([0.6374], requires_grad=True)\n"
     ]
    }
   ],
   "source": [
    "for name in model.parameters():\n",
    "    print(name)"
   ]
  },
  {
   "cell_type": "code",
   "execution_count": 240,
   "id": "7ca7a463-940b-40ac-a899-ef2d604214c5",
   "metadata": {},
   "outputs": [
    {
     "name": "stdout",
     "output_type": "stream",
     "text": [
      "Prediction: -2.3857\n"
     ]
    }
   ],
   "source": [
    "# Output before training\n",
    "test_prediction = torch.tensor([[4.]])\n",
    "print(f\"Prediction: {model.forward(test_prediction.data).item():,.4f}\")"
   ]
  },
  {
   "cell_type": "code",
   "execution_count": 241,
   "id": "f6dbf7b2-a4ea-4be7-ad40-0fd12c35e31c",
   "metadata": {},
   "outputs": [
    {
     "data": {
      "text/plain": [
       "tensor([[-2.3857]])"
      ]
     },
     "execution_count": 241,
     "metadata": {},
     "output_type": "execute_result"
    }
   ],
   "source": [
    "# wx+b\n",
    "model.linear.weight.data*test_prediction+model.linear.bias.data"
   ]
  },
  {
   "cell_type": "code",
   "execution_count": 242,
   "id": "c8978132-a85a-482e-a54f-fba26e109d31",
   "metadata": {},
   "outputs": [],
   "source": [
    "criterion = torch.nn.MSELoss() # good\n",
    "\n",
    "optimizer = torch.optim.Adam(model.parameters(), lr=0.01)\n",
    "optimizer = torch.optim.Adagrad(model.parameters(), lr=0.01)\n",
    "optimizer = torch.optim.Adamax(model.parameters(), lr=0.01)\n",
    "optimizer = torch.optim.ASGD(model.parameters(), lr=0.01)\n",
    "# optimizer = torch.optim.LBFGS(model.parameters()) # LBFGS.step() missing 1 required positional argument: 'closure'\n",
    "optimizer = torch.optim.RMSprop(model.parameters(), lr=0.01)\n",
    "optimizer = torch.optim.Rprop(model.parameters(), lr=0.01) # good for this example\n",
    "optimizer = torch.optim.SGD(model.parameters(), lr=0.01) # good for this example"
   ]
  },
  {
   "cell_type": "code",
   "execution_count": 243,
   "id": "4fe2ff69-dfbc-4605-b746-a7ee29dfce6c",
   "metadata": {},
   "outputs": [
    {
     "name": "stdout",
     "output_type": "stream",
     "text": [
      "Epoch 0, Loss: 28.820131301879883\n",
      "Prediction: -2.38569\n",
      "Epoch 100, Loss: 0.21291345357894897\n",
      "Prediction: 7.07452\n",
      "Epoch 200, Loss: 0.13156750798225403\n",
      "Prediction: 7.27255\n",
      "Epoch 300, Loss: 0.08130071312189102\n",
      "Prediction: 7.42816\n",
      "Epoch 400, Loss: 0.05023894086480141\n",
      "Prediction: 7.55048\n"
     ]
    }
   ],
   "source": [
    "# Training\n",
    "for epoch in range(500):\n",
    "    y_pred = model(x_data) # forward pass\n",
    "    loss = criterion(y_pred, y_data) \n",
    "    \n",
    "    if epoch % 100== 0:\n",
    "        print(f\"Epoch {epoch}, Loss: {loss.item()}\")\n",
    "        print(f\"Prediction: {model.forward(test_prediction.data).item():,.5f}\")\n",
    "    \n",
    "    optimizer.zero_grad() # set the gradients to zero\n",
    "    loss.backward() # backward pass\n",
    "    optimizer.step() # updates weights"
   ]
  },
  {
   "cell_type": "code",
   "execution_count": 244,
   "id": "952e5b54-e9ce-45e3-bd3c-9f0abf0d160b",
   "metadata": {},
   "outputs": [
    {
     "name": "stdout",
     "output_type": "stream",
     "text": [
      "Prediction: 7.6466\n"
     ]
    }
   ],
   "source": [
    "# Output after training\n",
    "test_prediction = torch.tensor([[4.]])\n",
    "print(f\"Prediction: {model.forward(test_prediction.data).item():,.4f}\")"
   ]
  },
  {
   "cell_type": "code",
   "execution_count": 245,
   "id": "3d2d6e40-0ad3-461e-90d8-d157349f1bfb",
   "metadata": {},
   "outputs": [
    {
     "data": {
      "text/plain": [
       "tensor([[7.6466]])"
      ]
     },
     "execution_count": 245,
     "metadata": {},
     "output_type": "execute_result"
    }
   ],
   "source": [
    "# wx+b\n",
    "model.linear.weight.data*test_prediction+model.linear.bias.data"
   ]
  },
  {
   "cell_type": "markdown",
   "id": "c052a752-79d5-4424-86dc-2d39805879f0",
   "metadata": {},
   "source": [
    "### 1.5. Logistic Regression"
   ]
  },
  {
   "cell_type": "code",
   "execution_count": 258,
   "id": "00d2cfcf-fa12-4301-ad6f-ced8298b2b08",
   "metadata": {},
   "outputs": [
    {
     "data": {
      "text/plain": [
       "torch.Size([6, 1])"
      ]
     },
     "execution_count": 258,
     "metadata": {},
     "output_type": "execute_result"
    }
   ],
   "source": [
    "x_data = torch.tensor([[1.],[2.],[3.],[4.],[5.], [6.]])\n",
    "y_data = torch.tensor([[0.],[0.],[0.],[1.],[1.], [1.]])\n",
    "x_data.shape"
   ]
  },
  {
   "cell_type": "code",
   "execution_count": 362,
   "id": "5c23443a-67ce-4b49-a51a-4d77b7f38bca",
   "metadata": {},
   "outputs": [],
   "source": [
    "# Basic logistic regression model\n",
    "class LogisticRegression(torch.nn.Module):\n",
    "    def __init__(self):\n",
    "        super(LogisticRegression, self).__init__()\n",
    "        \n",
    "        self.linear = torch.nn.Linear(1,1)\n",
    "        self.s = nn.Sigmoid()\n",
    "        self.r = nn.ReLU()\n",
    "        self.t = nn.Tanh()\n",
    "    \n",
    "    def forward(self, x):\n",
    "        y_pred = self.s(self.linear(x))\n",
    "        return y_pred"
   ]
  },
  {
   "cell_type": "code",
   "execution_count": 363,
   "id": "e5d8d912-bc88-4b8f-9d75-76eccbae49c2",
   "metadata": {},
   "outputs": [
    {
     "data": {
      "text/plain": [
       "LogisticRegression(\n",
       "  (linear): Linear(in_features=1, out_features=1, bias=True)\n",
       "  (s): Sigmoid()\n",
       "  (r): ReLU()\n",
       "  (t): Tanh()\n",
       ")"
      ]
     },
     "execution_count": 363,
     "metadata": {},
     "output_type": "execute_result"
    }
   ],
   "source": [
    "model = LogisticRegression()\n",
    "model"
   ]
  },
  {
   "cell_type": "code",
   "execution_count": 364,
   "id": "ca3df089-041e-4dba-b813-1346225651a2",
   "metadata": {},
   "outputs": [
    {
     "data": {
      "text/plain": [
       "tensor([[0.6271]], grad_fn=<SigmoidBackward0>)"
      ]
     },
     "execution_count": 364,
     "metadata": {},
     "output_type": "execute_result"
    }
   ],
   "source": [
    "test_prediction = torch.tensor([[4.]])\n",
    "model(test_prediction)"
   ]
  },
  {
   "cell_type": "code",
   "execution_count": 365,
   "id": "5e4fc96f-8248-46e4-98bb-2d0e1e29a107",
   "metadata": {},
   "outputs": [],
   "source": [
    "criterion = torch.nn.BCELoss()\n",
    "#criterion = torch.nn.BCEWithLogitsLoss() # for relu, tanh\n",
    "optimizer = torch.optim.SGD(model.parameters(), lr=0.01)"
   ]
  },
  {
   "cell_type": "code",
   "execution_count": 366,
   "id": "ed8f328d-8e1d-40be-b713-ad4726f726bc",
   "metadata": {
    "tags": []
   },
   "outputs": [
    {
     "name": "stdout",
     "output_type": "stream",
     "text": [
      "Epoch 0, Loss: 0.6910417675971985\n",
      "Prediction: 0.62706\n",
      "Epoch 1000, Loss: 0.4469590485095978\n",
      "Prediction: 0.69123\n",
      "Epoch 2000, Loss: 0.3385319709777832\n",
      "Prediction: 0.69831\n",
      "Epoch 3000, Loss: 0.2794446349143982\n",
      "Prediction: 0.70696\n",
      "Epoch 4000, Loss: 0.2423749417066574\n",
      "Prediction: 0.71532\n",
      "Epoch 5000, Loss: 0.21673928201198578\n",
      "Prediction: 0.72306\n",
      "Epoch 6000, Loss: 0.19777274131774902\n",
      "Prediction: 0.73018\n",
      "Epoch 7000, Loss: 0.1830432415008545\n",
      "Prediction: 0.73675\n",
      "Epoch 8000, Loss: 0.1711837500333786\n",
      "Prediction: 0.74283\n",
      "Epoch 9000, Loss: 0.1613667756319046\n",
      "Prediction: 0.74850\n"
     ]
    }
   ],
   "source": [
    "# Training\n",
    "for epoch in range(10_000):\n",
    "    y_pred = model(x_data) # forward pass\n",
    "    loss = criterion(y_pred, y_data) \n",
    "    \n",
    "    if epoch % 1000== 0:\n",
    "        print(f\"Epoch {epoch}, Loss: {loss.item()}\")\n",
    "        print(f\"Prediction: {model.forward(test_prediction.data).item():,.5f}\")\n",
    "    \n",
    "    optimizer.zero_grad() # set the gradients to zero\n",
    "    loss.backward() # backward pass\n",
    "    optimizer.step() # updates weights"
   ]
  },
  {
   "cell_type": "code",
   "execution_count": 367,
   "id": "5f6aa68a-7135-49c2-a8d9-d0d786ad9cbc",
   "metadata": {},
   "outputs": [
    {
     "data": {
      "text/plain": [
       "tensor([[0.7538]], grad_fn=<SigmoidBackward0>)"
      ]
     },
     "execution_count": 367,
     "metadata": {},
     "output_type": "execute_result"
    }
   ],
   "source": [
    "test_prediction = torch.tensor([[4.]])\n",
    "model(test_prediction)"
   ]
  },
  {
   "cell_type": "code",
   "execution_count": null,
   "id": "e16e3bc8-37d2-4f18-a77f-3d2275a1d0dc",
   "metadata": {},
   "outputs": [],
   "source": []
  }
 ],
 "metadata": {
  "kernelspec": {
   "display_name": "ai",
   "language": "python",
   "name": "ai"
  },
  "language_info": {
   "codemirror_mode": {
    "name": "ipython",
    "version": 3
   },
   "file_extension": ".py",
   "mimetype": "text/x-python",
   "name": "python",
   "nbconvert_exporter": "python",
   "pygments_lexer": "ipython3",
   "version": "3.10.4"
  }
 },
 "nbformat": 4,
 "nbformat_minor": 5
}
