{
 "cells": [
  {
   "cell_type": "markdown",
   "id": "2bdc32e5-692a-46bf-a66d-f880febcc1d8",
   "metadata": {},
   "source": [
    "# Pytorch Basics"
   ]
  },
  {
   "cell_type": "markdown",
   "id": "0e9eb740-ba54-4399-b1e1-79de593bc7ba",
   "metadata": {},
   "source": [
    "## Imports"
   ]
  },
  {
   "cell_type": "code",
   "execution_count": 1,
   "id": "5eb4cb15-0fe8-4703-8203-7b3c0fdd0261",
   "metadata": {},
   "outputs": [],
   "source": [
    "#!pip3 install torch torchvision torchaudio\n",
    "import numpy as np\n",
    "from matplotlib import pyplot as plt"
   ]
  },
  {
   "cell_type": "markdown",
   "id": "4b18bdce-9d0f-4ba8-9b56-b7ce1df954c2",
   "metadata": {},
   "source": [
    "## 1. Simple NeuralNetwork with Pytorch"
   ]
  },
  {
   "cell_type": "markdown",
   "id": "9faded4a-7cb5-4bf5-b415-6e05aa3802a8",
   "metadata": {},
   "source": [
    "### 1.1. Basic Example with MSE Loss function (without Gradient Descent)"
   ]
  },
  {
   "cell_type": "code",
   "execution_count": 2,
   "id": "8d542c81-274a-44d1-b5f0-6e7f2cb58079",
   "metadata": {},
   "outputs": [],
   "source": [
    "def forward(x):\n",
    "    return x*w\n",
    "\n",
    "def loss(x,y_true):\n",
    "    y_pred = forward(x)\n",
    "    return np.sum((y_pred - y_true)**2)/N"
   ]
  },
  {
   "cell_type": "code",
   "execution_count": 3,
   "id": "7b6fa475-07b7-450c-bc93-26057f317235",
   "metadata": {},
   "outputs": [
    {
     "data": {
      "text/plain": [
       "(array([1., 2., 3., 4.], dtype=float32),\n",
       " array([2., 4., 6., 8.], dtype=float32))"
      ]
     },
     "execution_count": 3,
     "metadata": {},
     "output_type": "execute_result"
    }
   ],
   "source": [
    "x = np.array([1,2,3,4],dtype=np.float32)\n",
    "y_true = 2*x\n",
    "x, y_true"
   ]
  },
  {
   "cell_type": "code",
   "execution_count": 4,
   "id": "43223777-dbb5-44c1-beaf-a22574b30b36",
   "metadata": {},
   "outputs": [],
   "source": [
    "N = len(x)\n",
    "w = 0.5 # random weight"
   ]
  },
  {
   "cell_type": "code",
   "execution_count": 5,
   "id": "73239e50-8cf0-4820-978e-0152a34baf90",
   "metadata": {},
   "outputs": [
    {
     "data": {
      "text/plain": [
       "array([0.5, 1. , 1.5, 2. ], dtype=float32)"
      ]
     },
     "execution_count": 5,
     "metadata": {},
     "output_type": "execute_result"
    }
   ],
   "source": [
    "y_random = forward(x)\n",
    "y_random"
   ]
  },
  {
   "cell_type": "code",
   "execution_count": 6,
   "id": "184c5a78-a700-437c-aabf-6eb1c4f8c492",
   "metadata": {},
   "outputs": [
    {
     "data": {
      "text/plain": [
       "<matplotlib.legend.Legend at 0x1d2a85f7370>"
      ]
     },
     "execution_count": 6,
     "metadata": {},
     "output_type": "execute_result"
    },
    {
     "data": {
      "image/png": "[encoded data removed]",
      "text/plain": [
       "<Figure size 432x288 with 1 Axes>"
      ]
     },
     "metadata": {
      "needs_background": "light"
     },
     "output_type": "display_data"
    }
   ],
   "source": [
    "plt.plot(x,y_true, color=\"blue\", label=\"True function\")\n",
    "plt.plot(x,y_random, color=\"green\", label=\"Random-valued function\")\n",
    "plt.legend()"
   ]
  },
  {
   "cell_type": "code",
   "execution_count": 7,
   "id": "c0c1a27c-6c41-4acd-9ba9-70a85cc72c55",
   "metadata": {},
   "outputs": [
    {
     "name": "stdout",
     "output_type": "stream",
     "text": [
      "Loss calculation for w = 0.0\n",
      "optimal: [2. 4. 6. 8.], x*w= [0. 0. 0. 0.], loss=30.0\n",
      "[30.] [0.]\n",
      "Loss calculation for w = 1.0\n",
      "optimal: [2. 4. 6. 8.], x*w= [1. 2. 3. 4.], loss=7.5\n",
      "[30.   7.5] [0. 1.]\n",
      "Loss calculation for w = 2.0\n",
      "optimal: [2. 4. 6. 8.], x*w= [2. 4. 6. 8.], loss=0.0\n",
      "[30.   7.5  0. ] [0. 1. 2.]\n",
      "Loss calculation for w = 3.0\n",
      "optimal: [2. 4. 6. 8.], x*w= [ 3.  6.  9. 12.], loss=7.5\n",
      "[30.   7.5  0.   7.5] [0. 1. 2. 3.]\n",
      "Loss calculation for w = 4.0\n",
      "optimal: [2. 4. 6. 8.], x*w= [ 4.  8. 12. 16.], loss=30.0\n",
      "[30.   7.5  0.   7.5 30. ] [0. 1. 2. 3. 4.]\n"
     ]
    },
    {
     "data": {
      "text/plain": [
       "<matplotlib.legend.Legend at 0x1d2aaedb5b0>"
      ]
     },
     "execution_count": 7,
     "metadata": {},
     "output_type": "execute_result"
    },
    {
     "data": {
      "image/png": "[encoded data removed]",
      "text/plain": [
       "<Figure size 432x288 with 1 Axes>"
      ]
     },
     "metadata": {
      "needs_background": "light"
     },
     "output_type": "display_data"
    }
   ],
   "source": [
    "list_loss = np.array([])\n",
    "list_w = np.array([])\n",
    "\n",
    "for w in np.arange(0.0,5.0,1.0):\n",
    "    print(\"Loss calculation for w =\",w)\n",
    "    y_pred = forward(x)\n",
    "    l = loss(x,y_true)\n",
    "    \n",
    "    print(f\"optimal: {y_true}, x*w= {y_pred}, loss={l}\")\n",
    "    \n",
    "    if l == 0:\n",
    "        plt.scatter(w,l, color=\"orange\", label=\"Loss = 0\")\n",
    "    else:\n",
    "        plt.scatter(w,l, color=\"blue\", linewidths=0.1)\n",
    "    \n",
    "    list_loss = np.append(list_loss,[l])\n",
    "    list_w = np.append(list_w,[w])\n",
    "    print(list_loss, list_w)\n",
    "\n",
    "plt.plot(list_w,list_loss)\n",
    "plt.xlabel(\"w\")\n",
    "plt.ylabel(\"MSE Loss\")\n",
    "plt.legend()"
   ]
  },
  {
   "cell_type": "code",
   "execution_count": 8,
   "id": "2b3dc29e-65a6-4742-80fd-99ad3c2464b8",
   "metadata": {},
   "outputs": [
    {
     "name": "stdout",
     "output_type": "stream",
     "text": [
      "[30.   7.5  0.   7.5 30. ] [0. 1. 2. 3. 4.]\n"
     ]
    }
   ],
   "source": [
    "print(list_loss, list_w)"
   ]
  },
  {
   "cell_type": "code",
   "execution_count": 9,
   "id": "8ea84b8c-9fef-41f0-a361-8afd98128a4e",
   "metadata": {},
   "outputs": [
    {
     "data": {
      "text/plain": [
       "(2, 2.0)"
      ]
     },
     "execution_count": 9,
     "metadata": {},
     "output_type": "execute_result"
    }
   ],
   "source": [
    "np.argmin(list_loss), list_w[np.argmin(list_loss)]"
   ]
  },
  {
   "cell_type": "code",
   "execution_count": 10,
   "id": "918b0587-1aca-4c99-a579-fff1d7bb0beb",
   "metadata": {},
   "outputs": [
    {
     "data": {
      "text/plain": [
       "4.0"
      ]
     },
     "execution_count": 10,
     "metadata": {},
     "output_type": "execute_result"
    }
   ],
   "source": [
    "w # the value for weight is from the for loop as the last one choosen (begin: 0.0 until 4.0)\n",
    "# we need to assign the right one from one row above with list_w[np.argmin(list_loss)] then for the pred function"
   ]
  },
  {
   "cell_type": "markdown",
   "id": "95f9bd15-40f6-4829-b0f6-046a74d15005",
   "metadata": {},
   "source": [
    "### 1.2. Basic Example with MSE Loss function and active Training (with Gradient descent)"
   ]
  },
  {
   "cell_type": "code",
   "execution_count": 11,
   "id": "fa986cf3-cfb7-45ea-82e5-a25efb9784ba",
   "metadata": {},
   "outputs": [],
   "source": [
    "def gradient(x,y_true):\n",
    "    return 2*x*(x*w-y_true)/N"
   ]
  },
  {
   "cell_type": "code",
   "execution_count": 12,
   "id": "f5751f08-3d2b-492a-a403-f33ff7fbc0a1",
   "metadata": {},
   "outputs": [
    {
     "data": {
      "text/plain": [
       "(array([1., 2., 3.], dtype=float32), array([2., 4., 6.], dtype=float32))"
      ]
     },
     "execution_count": 12,
     "metadata": {},
     "output_type": "execute_result"
    }
   ],
   "source": [
    "x = np.array([1,2,3],dtype=np.float32)\n",
    "y_true = 2*x\n",
    "x, y_true"
   ]
  },
  {
   "cell_type": "code",
   "execution_count": 13,
   "id": "876d88f9-a3b8-4d1a-bec5-b141682bfc12",
   "metadata": {},
   "outputs": [],
   "source": [
    "w = 1.0\n",
    "lr = 0.01"
   ]
  },
  {
   "cell_type": "code",
   "execution_count": 14,
   "id": "048868d8-7fe2-4720-9ba2-0dbaca432d2e",
   "metadata": {},
   "outputs": [
    {
     "name": "stdout",
     "output_type": "stream",
     "text": [
      "w0 = 1.0\n",
      "x = [1. 2. 3.]\n",
      "y=[2. 4. 6.]\n"
     ]
    }
   ],
   "source": [
    "print(f\"w0 = {w}\\nx = {x}\\ny={y_true}\")"
   ]
  },
  {
   "cell_type": "code",
   "execution_count": 15,
   "id": "d2dbe7b7-d63c-46e2-a6e6-0527ec73f7e9",
   "metadata": {},
   "outputs": [
    {
     "data": {
      "text/plain": [
       "array([1., 2., 3.], dtype=float32)"
      ]
     },
     "execution_count": 15,
     "metadata": {},
     "output_type": "execute_result"
    }
   ],
   "source": [
    "y_pred = forward(x)\n",
    "y_pred"
   ]
  },
  {
   "cell_type": "code",
   "execution_count": 16,
   "id": "743397c8-11ac-4d04-888c-21cfe2c31e4e",
   "metadata": {},
   "outputs": [
    {
     "data": {
      "text/plain": [
       "array([-0.5, -2. , -4.5], dtype=float32)"
      ]
     },
     "execution_count": 16,
     "metadata": {},
     "output_type": "execute_result"
    }
   ],
   "source": [
    "gradient(x,y_true)"
   ]
  },
  {
   "cell_type": "code",
   "execution_count": 17,
   "id": "08830824-c285-4122-8e24-b2996784263c",
   "metadata": {},
   "outputs": [
    {
     "data": {
      "text/plain": [
       "4.0"
      ]
     },
     "execution_count": 17,
     "metadata": {},
     "output_type": "execute_result"
    }
   ],
   "source": [
    "forward(4)"
   ]
  },
  {
   "cell_type": "code",
   "execution_count": 18,
   "id": "40304410-9b73-4a81-a69a-3cef7f4a6ea1",
   "metadata": {},
   "outputs": [
    {
     "name": "stdout",
     "output_type": "stream",
     "text": [
      "Epoch 0:\n",
      "grad (for (3.0, 6.0) - last in this x_val and y_val): -4.38795\n",
      "w: 1.0687795, loss: 1.951\n",
      "\n",
      "Epoch 10:\n",
      "grad (for (3.0, 6.0) - last in this x_val and y_val): -2.151725914872033\n",
      "w: 1.543355944732713, loss: 0.469\n",
      "\n",
      "Epoch 20:\n",
      "grad (for (3.0, 6.0) - last in this x_val and y_val): -1.0551452073820076\n",
      "w: 1.776074739322263, loss: 0.113\n",
      "\n",
      "Epoch 30:\n",
      "grad (for (3.0, 6.0) - last in this x_val and y_val): -0.5174132081443212\n",
      "w: 1.8901934191604828, loss: 0.027\n",
      "\n",
      "Epoch 40:\n",
      "grad (for (3.0, 6.0) - last in this x_val and y_val): -0.25372472536405954\n",
      "w: 1.9461539749505163, loss: 0.007\n",
      "\n",
      "Epoch 50:\n",
      "grad (for (3.0, 6.0) - last in this x_val and y_val): -0.12441939101622435\n",
      "w: 1.9735954403510012, loss: 0.002\n",
      "\n",
      "Epoch 60:\n",
      "grad (for (3.0, 6.0) - last in this x_val and y_val): -0.0610117316656309\n",
      "w: 1.987051954724294, loss: 0.000\n",
      "\n",
      "Epoch 70:\n",
      "grad (for (3.0, 6.0) - last in this x_val and y_val): -0.02991841842686238\n",
      "w: 1.9936506467560768, loss: 0.000\n",
      "\n",
      "Epoch 80:\n",
      "grad (for (3.0, 6.0) - last in this x_val and y_val): -0.014671141708786362\n",
      "w: 1.9968864577040242, loss: 0.000\n",
      "\n",
      "Epoch 90:\n",
      "grad (for (3.0, 6.0) - last in this x_val and y_val): -0.00719431074090604\n",
      "w: 1.9984732073872076, loss: 0.000\n",
      "\n"
     ]
    }
   ],
   "source": [
    "for epoch in range(100):\n",
    "    \n",
    "    for x_val, y_val in zip(x,y_true):\n",
    "        #print(\"actual values from x and y_true:\",x_val, y_val)\n",
    "        grad = gradient(x_val, y_val)\n",
    "        w = w - lr * grad\n",
    "        l = loss(x_val,y_val)\n",
    "    \n",
    "    if epoch % 10 == 0:\n",
    "        print(f\"Epoch {epoch}:\\ngrad (for {x_val, y_val} - last in this x_val and y_val): {grad}\\nw: {w}, loss: {l:,.3f}\\n\")"
   ]
  },
  {
   "cell_type": "code",
   "execution_count": 19,
   "id": "0a666b47-a97b-4c0f-a8b8-5f83f394ba1b",
   "metadata": {},
   "outputs": [
    {
     "data": {
      "text/plain": [
       "7.996784024040996"
      ]
     },
     "execution_count": 19,
     "metadata": {},
     "output_type": "execute_result"
    }
   ],
   "source": [
    "forward(4)"
   ]
  },
  {
   "cell_type": "markdown",
   "id": "517d6e84-7b1c-4978-b549-82e61b13c94d",
   "metadata": {},
   "source": [
    "#### 1.2.1. Example 1 (with 2 weights)"
   ]
  },
  {
   "cell_type": "code",
   "execution_count": 20,
   "id": "49b48e51-07cc-43b8-9916-e047a7b5cf03",
   "metadata": {},
   "outputs": [],
   "source": [
    "def function_exercise(x):\n",
    "    return 2*x"
   ]
  },
  {
   "cell_type": "code",
   "execution_count": 21,
   "id": "608dbf65-4f8b-410c-8f0a-be3737809675",
   "metadata": {},
   "outputs": [],
   "source": [
    "x = np.array([1,2,3],dtype=np.float32)\n",
    "y_true = function_exercise(x)\n",
    "\n",
    "w1 = 0.5\n",
    "w2 = 0.5\n",
    "b = 0.0\n",
    "\n",
    "#y_pred = x**2*w2+x*w1+b\n",
    "#y_pred, y_true"
   ]
  },
  {
   "cell_type": "code",
   "execution_count": 22,
   "id": "7244a52a-001b-4735-a20e-98bfa13a32ae",
   "metadata": {},
   "outputs": [],
   "source": [
    "def forward_exercise(x):\n",
    "    return x**2*w2+x*w1+b"
   ]
  },
  {
   "cell_type": "code",
   "execution_count": 23,
   "id": "d996bf8f-59c1-49ee-a743-1af06239c3a0",
   "metadata": {},
   "outputs": [],
   "source": [
    "def gradient_w1(x,y_true):\n",
    "    return 2*x*(x*w1-y_true+x**2*w2+b)\n",
    "\n",
    "def gradient_w2(x,y_true):\n",
    "    return  2*x**2*(x**2*w2-y_true+x*w1+b)"
   ]
  },
  {
   "cell_type": "code",
   "execution_count": 24,
   "id": "f3aa3f3a-6001-41f0-b6ef-1338657281b0",
   "metadata": {},
   "outputs": [
    {
     "data": {
      "text/plain": [
       "array([-2., -4.,  0.], dtype=float32)"
      ]
     },
     "execution_count": 24,
     "metadata": {},
     "output_type": "execute_result"
    }
   ],
   "source": [
    "gradient_w1(x,y_true)"
   ]
  },
  {
   "cell_type": "code",
   "execution_count": 25,
   "id": "1e75a2a0-72a1-4f41-a8bf-e38c6e866536",
   "metadata": {},
   "outputs": [
    {
     "data": {
      "text/plain": [
       "array([-2., -8.,  0.], dtype=float32)"
      ]
     },
     "execution_count": 25,
     "metadata": {},
     "output_type": "execute_result"
    }
   ],
   "source": [
    "gradient_w2(x,y_true)"
   ]
  },
  {
   "cell_type": "code",
   "execution_count": 26,
   "id": "843b0ee8-5220-4997-b0ec-810bb7dd9793",
   "metadata": {},
   "outputs": [
    {
     "data": {
      "text/plain": [
       "array([1., 3., 6.], dtype=float32)"
      ]
     },
     "execution_count": 26,
     "metadata": {},
     "output_type": "execute_result"
    }
   ],
   "source": [
    "forward_exercise(x) # function which we will train st. it is equal to y_true (2*x)"
   ]
  },
  {
   "cell_type": "code",
   "execution_count": 27,
   "id": "d338c4ac-a6e4-4d0a-aaa0-5adfdb8fe8f7",
   "metadata": {},
   "outputs": [
    {
     "data": {
      "text/plain": [
       "array([2., 4., 6.], dtype=float32)"
      ]
     },
     "execution_count": 27,
     "metadata": {},
     "output_type": "execute_result"
    }
   ],
   "source": [
    "y_true"
   ]
  },
  {
   "cell_type": "code",
   "execution_count": 28,
   "id": "ba0c3654-6d1f-4918-8afe-0ddf92b168d6",
   "metadata": {},
   "outputs": [
    {
     "name": "stdout",
     "output_type": "stream",
     "text": [
      "Epoch 0:\n",
      "grad (for (3.0, 6.0) - last in this x_val and y_val): -0.003788453354847565\n",
      "w: 1.999196006010249, loss: 0.000\n",
      "\n",
      "Epoch 10:\n",
      "grad (for (3.0, 6.0) - last in this x_val and y_val): -0.003788453354847565\n",
      "w: 1.999196006010249, loss: 0.000\n",
      "\n",
      "Epoch 20:\n",
      "grad (for (3.0, 6.0) - last in this x_val and y_val): -0.003788453354847565\n",
      "w: 1.999196006010249, loss: 0.000\n",
      "\n",
      "Epoch 30:\n",
      "grad (for (3.0, 6.0) - last in this x_val and y_val): -0.003788453354847565\n",
      "w: 1.999196006010249, loss: 0.000\n",
      "\n",
      "Epoch 40:\n",
      "grad (for (3.0, 6.0) - last in this x_val and y_val): -0.003788453354847565\n",
      "w: 1.999196006010249, loss: 0.000\n",
      "\n",
      "Epoch 50:\n",
      "grad (for (3.0, 6.0) - last in this x_val and y_val): -0.003788453354847565\n",
      "w: 1.999196006010249, loss: 0.000\n",
      "\n",
      "Epoch 60:\n",
      "grad (for (3.0, 6.0) - last in this x_val and y_val): -0.003788453354847565\n",
      "w: 1.999196006010249, loss: 0.000\n",
      "\n",
      "Epoch 70:\n",
      "grad (for (3.0, 6.0) - last in this x_val and y_val): -0.003788453354847565\n",
      "w: 1.999196006010249, loss: 0.000\n",
      "\n",
      "Epoch 80:\n",
      "grad (for (3.0, 6.0) - last in this x_val and y_val): -0.003788453354847565\n",
      "w: 1.999196006010249, loss: 0.000\n",
      "\n",
      "Epoch 90:\n",
      "grad (for (3.0, 6.0) - last in this x_val and y_val): -0.003788453354847565\n",
      "w: 1.999196006010249, loss: 0.000\n",
      "\n"
     ]
    }
   ],
   "source": [
    "for epoch in range(100):\n",
    "    \n",
    "    for x_val, y_val in zip(x,y_true):\n",
    "        \n",
    "        grad_w1 = gradient_w1(x_val, y_val)\n",
    "        grad_w2 = gradient_w2(x_val, y_val)\n",
    "        w1 = w1 - lr * grad_w1\n",
    "        w2 = w2 - lr * grad_w2\n",
    "        \n",
    "        l = loss(x_val,y_val)\n",
    "    \n",
    "    if epoch % 10 == 0:\n",
    "        print(f\"Epoch {epoch}:\\ngrad (for {x_val, y_val} - last in this x_val and y_val): {grad}\\nw: {w}, loss: {l:,.3f}\\n\")"
   ]
  },
  {
   "cell_type": "code",
   "execution_count": 29,
   "id": "bd316a07-a8cd-4820-ab79-081b593ba099",
   "metadata": {},
   "outputs": [
    {
     "data": {
      "text/plain": [
       "array([1.8173532, 3.7867506, 5.9081917], dtype=float32)"
      ]
     },
     "execution_count": 29,
     "metadata": {},
     "output_type": "execute_result"
    }
   ],
   "source": [
    "forward_exercise(x) # with more epochs (like 1000) we get a perfect prediction which is equal to y_true (2*x)"
   ]
  },
  {
   "cell_type": "code",
   "execution_count": 30,
   "id": "99dfebed-acf6-4468-bfcd-bcdfeee4d0a9",
   "metadata": {},
   "outputs": [
    {
     "data": {
      "text/plain": [
       "array([2., 4., 6.], dtype=float32)"
      ]
     },
     "execution_count": 30,
     "metadata": {},
     "output_type": "execute_result"
    }
   ],
   "source": [
    "y_true"
   ]
  },
  {
   "cell_type": "markdown",
   "id": "9ec7ec3c-fb10-4d51-9d3a-01930fa89046",
   "metadata": {},
   "source": [
    "### 1.3. Backpropagation and Autograd"
   ]
  },
  {
   "cell_type": "code",
   "execution_count": null,
   "id": "c7a1923b-6b31-443c-aaef-e578198ba409",
   "metadata": {},
   "outputs": [],
   "source": []
  }
 ],
 "metadata": {
  "kernelspec": {
   "display_name": "ai",
   "language": "python",
   "name": "ai"
  },
  "language_info": {
   "codemirror_mode": {
    "name": "ipython",
    "version": 3
   },
   "file_extension": ".py",
   "mimetype": "text/x-python",
   "name": "python",
   "nbconvert_exporter": "python",
   "pygments_lexer": "ipython3",
   "version": "3.10.4"
  }
 },
 "nbformat": 4,
 "nbformat_minor": 5
}
