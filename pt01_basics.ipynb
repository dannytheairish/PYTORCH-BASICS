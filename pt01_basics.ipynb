{
 "cells": [
  {
   "cell_type": "markdown",
   "id": "2bdc32e5-692a-46bf-a66d-f880febcc1d8",
   "metadata": {},
   "source": [
    "# Pytorch Basics"
   ]
  },
  {
   "cell_type": "markdown",
   "id": "0e9eb740-ba54-4399-b1e1-79de593bc7ba",
   "metadata": {},
   "source": [
    "## Imports"
   ]
  },
  {
   "cell_type": "code",
   "execution_count": 288,
   "id": "5eb4cb15-0fe8-4703-8203-7b3c0fdd0261",
   "metadata": {},
   "outputs": [],
   "source": [
    "#!pip3 install torch torchvision torchaudio\n",
    "import pandas as pd\n",
    "from matplotlib import pyplot as plt\n",
    "import seaborn as sns\n",
    "import numpy as np\n",
    "\n",
    "from sklearn import preprocessing\n",
    "from sklearn.model_selection import train_test_split\n",
    "from sklearn.metrics import accuracy_score\n",
    "from sklearn.metrics import confusion_matrix\n",
    "\n",
    "\n",
    "\n",
    "import torch\n",
    "import torch.nn as nn\n",
    "\n",
    "import warnings\n",
    "warnings.filterwarnings(\"ignore\")"
   ]
  },
  {
   "cell_type": "markdown",
   "id": "4b18bdce-9d0f-4ba8-9b56-b7ce1df954c2",
   "metadata": {
    "tags": []
   },
   "source": [
    "## 1. Simple NeuralNetwork with Pytorch"
   ]
  },
  {
   "cell_type": "markdown",
   "id": "9faded4a-7cb5-4bf5-b415-6e05aa3802a8",
   "metadata": {
    "jp-MarkdownHeadingCollapsed": true,
    "tags": []
   },
   "source": [
    "### 1.1. Basic Example with MSE Loss function (without Gradient Descent)"
   ]
  },
  {
   "cell_type": "code",
   "execution_count": 304,
   "id": "8d542c81-274a-44d1-b5f0-6e7f2cb58079",
   "metadata": {},
   "outputs": [],
   "source": [
    "def forward(x):\n",
    "    return x*w\n",
    "\n",
    "def loss(x,y_true):\n",
    "    y_pred = forward(x)\n",
    "    return np.sum((y_pred - y_true)**2)/N"
   ]
  },
  {
   "cell_type": "code",
   "execution_count": 305,
   "id": "7b6fa475-07b7-450c-bc93-26057f317235",
   "metadata": {},
   "outputs": [
    {
     "data": {
      "text/plain": [
       "(array([1., 2., 3., 4.], dtype=float32),\n",
       " array([2., 4., 6., 8.], dtype=float32))"
      ]
     },
     "execution_count": 305,
     "metadata": {},
     "output_type": "execute_result"
    }
   ],
   "source": [
    "x = np.array([1,2,3,4],dtype=np.float32)\n",
    "y_true = 2*x\n",
    "x, y_true"
   ]
  },
  {
   "cell_type": "code",
   "execution_count": null,
   "id": "43223777-dbb5-44c1-beaf-a22574b30b36",
   "metadata": {},
   "outputs": [],
   "source": [
    "N = len(x)\n",
    "w = 0.5 # random weight"
   ]
  },
  {
   "cell_type": "code",
   "execution_count": null,
   "id": "73239e50-8cf0-4820-978e-0152a34baf90",
   "metadata": {},
   "outputs": [],
   "source": [
    "y_random = forward(x)\n",
    "y_random"
   ]
  },
  {
   "cell_type": "code",
   "execution_count": null,
   "id": "184c5a78-a700-437c-aabf-6eb1c4f8c492",
   "metadata": {},
   "outputs": [],
   "source": [
    "plt.plot(x,y_true, color=\"blue\", label=\"True function\")\n",
    "plt.plot(x,y_random, color=\"green\", label=\"Random-valued function\")\n",
    "plt.legend()"
   ]
  },
  {
   "cell_type": "code",
   "execution_count": null,
   "id": "c0c1a27c-6c41-4acd-9ba9-70a85cc72c55",
   "metadata": {},
   "outputs": [],
   "source": [
    "list_loss = np.array([])\n",
    "list_w = np.array([])\n",
    "\n",
    "for w in np.arange(0.0,5.0,1.0):\n",
    "    print(\"Loss calculation for w =\",w)\n",
    "    y_pred = forward(x)\n",
    "    l = loss(x,y_true)\n",
    "    \n",
    "    print(f\"optimal: {y_true}, x*w= {y_pred}, loss={l}\")\n",
    "    \n",
    "    if l == 0:\n",
    "        plt.scatter(w,l, color=\"orange\", label=\"Loss = 0\")\n",
    "    else:\n",
    "        plt.scatter(w,l, color=\"blue\", linewidths=0.1)\n",
    "    \n",
    "    list_loss = np.append(list_loss,[l])\n",
    "    list_w = np.append(list_w,[w])\n",
    "    print(list_loss, list_w)\n",
    "\n",
    "plt.plot(list_w,list_loss)\n",
    "plt.xlabel(\"w\")\n",
    "plt.ylabel(\"MSE Loss\")\n",
    "plt.legend()"
   ]
  },
  {
   "cell_type": "code",
   "execution_count": null,
   "id": "2b3dc29e-65a6-4742-80fd-99ad3c2464b8",
   "metadata": {},
   "outputs": [],
   "source": [
    "print(list_loss, list_w)"
   ]
  },
  {
   "cell_type": "code",
   "execution_count": null,
   "id": "8ea84b8c-9fef-41f0-a361-8afd98128a4e",
   "metadata": {},
   "outputs": [],
   "source": [
    "np.argmin(list_loss), list_w[np.argmin(list_loss)]"
   ]
  },
  {
   "cell_type": "code",
   "execution_count": null,
   "id": "918b0587-1aca-4c99-a579-fff1d7bb0beb",
   "metadata": {},
   "outputs": [],
   "source": [
    "w # the value for weight is from the for loop as the last one choosen (begin: 0.0 until 4.0)\n",
    "# we need to assign the right one from one row above with list_w[np.argmin(list_loss)] then for the pred function"
   ]
  },
  {
   "cell_type": "markdown",
   "id": "95f9bd15-40f6-4829-b0f6-046a74d15005",
   "metadata": {
    "jp-MarkdownHeadingCollapsed": true,
    "tags": []
   },
   "source": [
    "### 1.2. Basic Example with MSE Loss function and active Training (with Gradient descent)"
   ]
  },
  {
   "cell_type": "code",
   "execution_count": null,
   "id": "fa986cf3-cfb7-45ea-82e5-a25efb9784ba",
   "metadata": {},
   "outputs": [],
   "source": [
    "def gradient(x,y_true):\n",
    "    return 2*x*(x*w-y_true)/N"
   ]
  },
  {
   "cell_type": "code",
   "execution_count": null,
   "id": "f5751f08-3d2b-492a-a403-f33ff7fbc0a1",
   "metadata": {},
   "outputs": [],
   "source": [
    "x = np.array([1,2,3],dtype=np.float32)\n",
    "y_true = 2*x\n",
    "x, y_true"
   ]
  },
  {
   "cell_type": "code",
   "execution_count": null,
   "id": "876d88f9-a3b8-4d1a-bec5-b141682bfc12",
   "metadata": {},
   "outputs": [],
   "source": [
    "w = 1.0\n",
    "lr = 0.01"
   ]
  },
  {
   "cell_type": "code",
   "execution_count": null,
   "id": "048868d8-7fe2-4720-9ba2-0dbaca432d2e",
   "metadata": {},
   "outputs": [],
   "source": [
    "print(f\"w0 = {w}\\nx = {x}\\ny={y_true}\")"
   ]
  },
  {
   "cell_type": "code",
   "execution_count": null,
   "id": "d2dbe7b7-d63c-46e2-a6e6-0527ec73f7e9",
   "metadata": {},
   "outputs": [],
   "source": [
    "y_pred = forward(x)\n",
    "y_pred"
   ]
  },
  {
   "cell_type": "code",
   "execution_count": null,
   "id": "743397c8-11ac-4d04-888c-21cfe2c31e4e",
   "metadata": {},
   "outputs": [],
   "source": [
    "gradient(x,y_true)"
   ]
  },
  {
   "cell_type": "code",
   "execution_count": null,
   "id": "08830824-c285-4122-8e24-b2996784263c",
   "metadata": {},
   "outputs": [],
   "source": [
    "forward(4)"
   ]
  },
  {
   "cell_type": "code",
   "execution_count": null,
   "id": "40304410-9b73-4a81-a69a-3cef7f4a6ea1",
   "metadata": {},
   "outputs": [],
   "source": [
    "for epoch in range(100):\n",
    "    \n",
    "    for x_val, y_val in zip(x,y_true):\n",
    "        #print(\"actual values from x and y_true:\",x_val, y_val)\n",
    "        grad = gradient(x_val, y_val)\n",
    "        w = w - lr * grad\n",
    "        l = loss(x_val,y_val)\n",
    "    \n",
    "    if epoch % 10 == 0:\n",
    "        print(f\"Epoch {epoch}:\\ngrad (for {x_val, y_val} - last in this x_val and y_val): {grad}\\nw: {w}, loss: {l:,.3f}\\n\")"
   ]
  },
  {
   "cell_type": "code",
   "execution_count": null,
   "id": "0a666b47-a97b-4c0f-a8b8-5f83f394ba1b",
   "metadata": {},
   "outputs": [],
   "source": [
    "forward(4)"
   ]
  },
  {
   "cell_type": "markdown",
   "id": "517d6e84-7b1c-4978-b549-82e61b13c94d",
   "metadata": {
    "tags": []
   },
   "source": [
    "#### 1.2.1. Example 1 (with 2 weights)"
   ]
  },
  {
   "cell_type": "code",
   "execution_count": null,
   "id": "49b48e51-07cc-43b8-9916-e047a7b5cf03",
   "metadata": {},
   "outputs": [],
   "source": [
    "def function_exercise(x):\n",
    "    return 2*x"
   ]
  },
  {
   "cell_type": "code",
   "execution_count": null,
   "id": "608dbf65-4f8b-410c-8f0a-be3737809675",
   "metadata": {},
   "outputs": [],
   "source": [
    "x = np.array([1,2,3],dtype=np.float32)\n",
    "y_true = function_exercise(x)\n",
    "\n",
    "w1 = 0.5\n",
    "w2 = 0.5\n",
    "b = 0.0\n",
    "\n",
    "#y_pred = x**2*w2+x*w1+b\n",
    "#y_pred, y_true"
   ]
  },
  {
   "cell_type": "code",
   "execution_count": null,
   "id": "7244a52a-001b-4735-a20e-98bfa13a32ae",
   "metadata": {},
   "outputs": [],
   "source": [
    "def forward_exercise(x):\n",
    "    return x**2*w2+x*w1+b"
   ]
  },
  {
   "cell_type": "code",
   "execution_count": null,
   "id": "d996bf8f-59c1-49ee-a743-1af06239c3a0",
   "metadata": {},
   "outputs": [],
   "source": [
    "def gradient_w1(x,y_true):\n",
    "    return 2*x*(x*w1-y_true+x**2*w2+b)\n",
    "\n",
    "def gradient_w2(x,y_true):\n",
    "    return  2*x**2*(x**2*w2-y_true+x*w1+b)"
   ]
  },
  {
   "cell_type": "code",
   "execution_count": null,
   "id": "f3aa3f3a-6001-41f0-b6ef-1338657281b0",
   "metadata": {},
   "outputs": [],
   "source": [
    "gradient_w1(x,y_true)"
   ]
  },
  {
   "cell_type": "code",
   "execution_count": null,
   "id": "1e75a2a0-72a1-4f41-a8bf-e38c6e866536",
   "metadata": {},
   "outputs": [],
   "source": [
    "gradient_w2(x,y_true)"
   ]
  },
  {
   "cell_type": "code",
   "execution_count": null,
   "id": "843b0ee8-5220-4997-b0ec-810bb7dd9793",
   "metadata": {},
   "outputs": [],
   "source": [
    "forward_exercise(x) # function which we will train st. it is equal to y_true (2*x)"
   ]
  },
  {
   "cell_type": "code",
   "execution_count": null,
   "id": "d338c4ac-a6e4-4d0a-aaa0-5adfdb8fe8f7",
   "metadata": {},
   "outputs": [],
   "source": [
    "y_true"
   ]
  },
  {
   "cell_type": "code",
   "execution_count": null,
   "id": "ba0c3654-6d1f-4918-8afe-0ddf92b168d6",
   "metadata": {},
   "outputs": [],
   "source": [
    "for epoch in range(100):\n",
    "    \n",
    "    for x_val, y_val in zip(x,y_true):\n",
    "        \n",
    "        grad_w1 = gradient_w1(x_val, y_val)\n",
    "        grad_w2 = gradient_w2(x_val, y_val)\n",
    "        w1 = w1 - lr * grad_w1\n",
    "        w2 = w2 - lr * grad_w2\n",
    "        \n",
    "        l = loss(x_val,y_val)\n",
    "    \n",
    "    if epoch % 10 == 0:\n",
    "        print(f\"Epoch {epoch}:\\ngrad (for {x_val, y_val} - last in this x_val and y_val): {grad}\\nw: {w}, loss: {l:,.3f}\\n\")"
   ]
  },
  {
   "cell_type": "code",
   "execution_count": null,
   "id": "bd316a07-a8cd-4820-ab79-081b593ba099",
   "metadata": {},
   "outputs": [],
   "source": [
    "forward_exercise(x) # with more epochs (like 1000) we get a perfect prediction which is equal to y_true (2*x)"
   ]
  },
  {
   "cell_type": "code",
   "execution_count": null,
   "id": "99dfebed-acf6-4468-bfcd-bcdfeee4d0a9",
   "metadata": {},
   "outputs": [],
   "source": [
    "y_true"
   ]
  },
  {
   "cell_type": "markdown",
   "id": "9ec7ec3c-fb10-4d51-9d3a-01930fa89046",
   "metadata": {
    "jp-MarkdownHeadingCollapsed": true,
    "tags": []
   },
   "source": [
    "### 1.3. Backpropagation and Autograd"
   ]
  },
  {
   "cell_type": "code",
   "execution_count": null,
   "id": "c7a1923b-6b31-443c-aaef-e578198ba409",
   "metadata": {},
   "outputs": [],
   "source": [
    "x = torch.tensor([1.0, 2.0, 3.0])\n",
    "y_true = 2*x\n",
    "x,y_true"
   ]
  },
  {
   "cell_type": "code",
   "execution_count": null,
   "id": "ee69d4b2-d8df-46c4-b86f-2fa40147c56f",
   "metadata": {},
   "outputs": [],
   "source": [
    "lr = 0.01"
   ]
  },
  {
   "cell_type": "code",
   "execution_count": null,
   "id": "4451d702-c507-4722-bceb-24ba46f04484",
   "metadata": {},
   "outputs": [],
   "source": [
    "w = torch.tensor([1.0], requires_grad=True)\n",
    "w"
   ]
  },
  {
   "cell_type": "code",
   "execution_count": null,
   "id": "bd44de43-a781-4030-9404-3df32acfd461",
   "metadata": {},
   "outputs": [],
   "source": [
    "def forward(x):\n",
    "    return x*w\n",
    "\n",
    "def loss(x,y_true):\n",
    "    y_pred = forward(x)\n",
    "    return (y_pred - y_true)**2"
   ]
  },
  {
   "cell_type": "code",
   "execution_count": null,
   "id": "adf6f6e4-7af9-487c-b460-13d592548958",
   "metadata": {},
   "outputs": [],
   "source": [
    "forward(x)"
   ]
  },
  {
   "cell_type": "code",
   "execution_count": null,
   "id": "6da9e1aa-4f3a-4f8d-96ce-639a7e99b294",
   "metadata": {},
   "outputs": [],
   "source": [
    "w.data, w # w.grad.data -> calling und using only after .backward() "
   ]
  },
  {
   "cell_type": "code",
   "execution_count": null,
   "id": "e5a777a0-bb73-4af2-9774-b516a9b632a9",
   "metadata": {
    "tags": []
   },
   "outputs": [],
   "source": [
    "list_loss = np.array([])\n",
    "list_w = np.array([])\n",
    "\n",
    "for epoch in range(50):\n",
    "    \n",
    "    for x_val, y_val in zip(x,y_true):\n",
    "        l = loss(x_val,y_val)\n",
    "        l.backward() # activates w.grad.data and replace grad = gradient(x_val, y_val)\n",
    "        \n",
    "        w.data = w.data - lr * w.grad.data\n",
    "        w.grad.data.zero_() # set the gradients to zero after updating the weights\n",
    "    \n",
    "    if epoch % 10 == 0:\n",
    "        print(f\"update:\\n weight ({w.data}), weight gradient ({w.grad.data}), loss ({l})\")\n",
    "        \n",
    "    list_loss = np.append(list_loss,[l.detach().numpy()])\n",
    "    list_w = np.append(list_w,[w.data.detach().numpy()])"
   ]
  },
  {
   "cell_type": "code",
   "execution_count": null,
   "id": "b6c01147-4532-4a64-91f1-1d089620dd23",
   "metadata": {},
   "outputs": [],
   "source": [
    "list_loss, list_w"
   ]
  },
  {
   "cell_type": "code",
   "execution_count": null,
   "id": "1548967b-ec34-4733-85c5-bd44e2f8b1f9",
   "metadata": {},
   "outputs": [],
   "source": [
    "plt.plot(list_w,list_loss)\n",
    "plt.xlabel(\"w\")\n",
    "plt.ylabel(\"MSE Loss\")"
   ]
  },
  {
   "cell_type": "code",
   "execution_count": null,
   "id": "336ce464-45c0-4bbb-9d8b-8d7b8076dd42",
   "metadata": {},
   "outputs": [],
   "source": [
    "w, w.data"
   ]
  },
  {
   "cell_type": "code",
   "execution_count": null,
   "id": "375d165e-629f-47ce-b110-04566b7726d2",
   "metadata": {},
   "outputs": [],
   "source": [
    "forward(x)"
   ]
  },
  {
   "cell_type": "code",
   "execution_count": null,
   "id": "6a0d0203-a64e-417c-8488-22ea60581954",
   "metadata": {},
   "outputs": [],
   "source": [
    "x"
   ]
  },
  {
   "cell_type": "code",
   "execution_count": null,
   "id": "043b9845-63c5-4a45-82ab-bd57f4922af8",
   "metadata": {},
   "outputs": [],
   "source": [
    "plt.scatter(x.detach().numpy(), forward(x).detach().numpy())"
   ]
  },
  {
   "cell_type": "markdown",
   "id": "ab7943f6-2f3d-4e52-beef-31ee9dfbe048",
   "metadata": {},
   "source": [
    "#### 1.3.1. Exercise"
   ]
  },
  {
   "cell_type": "code",
   "execution_count": null,
   "id": "c0d27961-5e61-4128-b8fb-5ef8f1fb342d",
   "metadata": {},
   "outputs": [],
   "source": [
    "def function_exercise(x):\n",
    "    return 2*x\n",
    "\n",
    "def forward_exercise(x):\n",
    "    return x**2*w2+x*w1+b\n",
    "\n",
    "def loss(x,y_true):\n",
    "    y_pred = forward_exercise(x)\n",
    "    return (y_pred - y_true)**2\n",
    "\n",
    "x = torch.tensor([1.,2.,3.]) \n",
    "y_true = function_exercise(x)\n",
    "\n",
    "lr = 0.01\n",
    "\n",
    "w1 = torch.tensor(0.5, requires_grad=True)\n",
    "w2 = torch.tensor(0.5, requires_grad=True)\n",
    "b = torch.tensor(0.0, requires_grad=True)"
   ]
  },
  {
   "cell_type": "code",
   "execution_count": null,
   "id": "bed63e12-9ec7-4185-b8fa-0ff9657a5c54",
   "metadata": {
    "tags": []
   },
   "outputs": [],
   "source": [
    "w1.data"
   ]
  },
  {
   "cell_type": "code",
   "execution_count": null,
   "id": "9322a7bf-422e-4dc5-a79f-214c55d07161",
   "metadata": {},
   "outputs": [],
   "source": [
    "forward_exercise(x)"
   ]
  },
  {
   "cell_type": "code",
   "execution_count": null,
   "id": "f5887edf-fbfe-4c91-abc4-59bfb48b6788",
   "metadata": {},
   "outputs": [],
   "source": [
    "y_true"
   ]
  },
  {
   "cell_type": "code",
   "execution_count": null,
   "id": "54cd3005-7761-4d58-93ce-a5d0900f265b",
   "metadata": {},
   "outputs": [],
   "source": [
    "print(f\"Before training:\\nPredicted Function with random weights: {forward_exercise(x)}, True Function: {y_true}\\n\\n\") \n",
    "\n",
    "for epoch in range(100):\n",
    "    \n",
    "    for x_val, y_val in zip(x,y_true):\n",
    "        l = loss(x_val, y_val)\n",
    "        l.backward()\n",
    "        \n",
    "        w1.data = w1.data - lr * w1.grad.data\n",
    "        w2.data = w2.data - lr * w2.grad.data\n",
    "        \n",
    "        w1.grad.data.zero_()\n",
    "        w2.grad.data.zero_()\n",
    "        \n",
    "    if epoch % 10 == 0:\n",
    "        print(f\"Epoch {epoch}:\\nWeights: {w1.data, w2.data}, Output: {forward_exercise(x).data} (True function: {y_true}), Loss: {l:,.3f}\\n\")"
   ]
  },
  {
   "cell_type": "markdown",
   "id": "d74c0a18-b1d0-46ab-b779-b96c84bb5eda",
   "metadata": {
    "jp-MarkdownHeadingCollapsed": true,
    "tags": []
   },
   "source": [
    "### 1.4. Linear Regression"
   ]
  },
  {
   "cell_type": "code",
   "execution_count": 233,
   "id": "d828b571-e3ee-44e6-8917-081f9c3d896e",
   "metadata": {},
   "outputs": [
    {
     "data": {
      "text/plain": [
       "(tensor([[1.],\n",
       "         [2.],\n",
       "         [3.]]),\n",
       " tensor([[2.],\n",
       "         [4.],\n",
       "         [6.]]),\n",
       " torch.Size([3, 1]))"
      ]
     },
     "execution_count": 233,
     "metadata": {},
     "output_type": "execute_result"
    }
   ],
   "source": [
    "x_data = torch.tensor([[1.],[2.],[3.0]])\n",
    "y_data = 2*x_data #torch.tensor([[2.],[4.],[6.0]])\n",
    "x_data, y_data, x_data.shape"
   ]
  },
  {
   "cell_type": "code",
   "execution_count": 234,
   "id": "dc042a2a-31ae-41f7-9f7c-9d7a1f8d2f6c",
   "metadata": {},
   "outputs": [],
   "source": [
    "# Basic Linear regression model\n",
    "class LinearRegression(torch.nn.Module):\n",
    "    def __init__(self):\n",
    "        super(LinearRegression, self).__init__()\n",
    "        \n",
    "        self.linear = torch.nn.Linear(1,1)\n",
    "    \n",
    "    def forward(self, x):\n",
    "        y_pred = self.linear(x)\n",
    "        return y_pred"
   ]
  },
  {
   "cell_type": "code",
   "execution_count": 235,
   "id": "04e5f418-ef39-42ef-9a0d-6cf1445ce5aa",
   "metadata": {},
   "outputs": [],
   "source": [
    "model = LinearRegression()"
   ]
  },
  {
   "cell_type": "code",
   "execution_count": 236,
   "id": "2c88157a-981c-44bf-9b6e-94b1dd25a210",
   "metadata": {},
   "outputs": [
    {
     "name": "stdout",
     "output_type": "stream",
     "text": [
      "tensor([[-0.7558]])\n",
      "tensor([0.6374])\n"
     ]
    }
   ],
   "source": [
    "for param in model.parameters():\n",
    "    print(param.data)"
   ]
  },
  {
   "cell_type": "code",
   "execution_count": 237,
   "id": "88c0dca3-620c-4e78-b605-79fee7973c5d",
   "metadata": {},
   "outputs": [
    {
     "name": "stdout",
     "output_type": "stream",
     "text": [
      "torch.Size([1, 1]) tensor([[-0.7558]])\n"
     ]
    }
   ],
   "source": [
    "print(model.linear.weight.shape, model.linear.weight.data)"
   ]
  },
  {
   "cell_type": "code",
   "execution_count": 238,
   "id": "55e635f4-c52b-4252-be97-8fa5937ff395",
   "metadata": {},
   "outputs": [
    {
     "name": "stdout",
     "output_type": "stream",
     "text": [
      "torch.Size([1]) tensor([0.6374])\n"
     ]
    }
   ],
   "source": [
    "print(model.linear.bias.shape, model.linear.bias.data)"
   ]
  },
  {
   "cell_type": "code",
   "execution_count": 239,
   "id": "b8b25e33-678e-434d-90b6-d733a3a3fc93",
   "metadata": {},
   "outputs": [
    {
     "name": "stdout",
     "output_type": "stream",
     "text": [
      "Parameter containing:\n",
      "tensor([[-0.7558]], requires_grad=True)\n",
      "Parameter containing:\n",
      "tensor([0.6374], requires_grad=True)\n"
     ]
    }
   ],
   "source": [
    "for name in model.parameters():\n",
    "    print(name)"
   ]
  },
  {
   "cell_type": "code",
   "execution_count": 240,
   "id": "7ca7a463-940b-40ac-a899-ef2d604214c5",
   "metadata": {},
   "outputs": [
    {
     "name": "stdout",
     "output_type": "stream",
     "text": [
      "Prediction: -2.3857\n"
     ]
    }
   ],
   "source": [
    "# Output before training\n",
    "test_prediction = torch.tensor([[4.]])\n",
    "print(f\"Prediction: {model.forward(test_prediction.data).item():,.4f}\")"
   ]
  },
  {
   "cell_type": "code",
   "execution_count": 241,
   "id": "f6dbf7b2-a4ea-4be7-ad40-0fd12c35e31c",
   "metadata": {},
   "outputs": [
    {
     "data": {
      "text/plain": [
       "tensor([[-2.3857]])"
      ]
     },
     "execution_count": 241,
     "metadata": {},
     "output_type": "execute_result"
    }
   ],
   "source": [
    "# wx+b\n",
    "model.linear.weight.data*test_prediction+model.linear.bias.data"
   ]
  },
  {
   "cell_type": "code",
   "execution_count": 242,
   "id": "c8978132-a85a-482e-a54f-fba26e109d31",
   "metadata": {},
   "outputs": [],
   "source": [
    "criterion = torch.nn.MSELoss() # good\n",
    "\n",
    "optimizer = torch.optim.Adam(model.parameters(), lr=0.01)\n",
    "optimizer = torch.optim.Adagrad(model.parameters(), lr=0.01)\n",
    "optimizer = torch.optim.Adamax(model.parameters(), lr=0.01)\n",
    "optimizer = torch.optim.ASGD(model.parameters(), lr=0.01)\n",
    "# optimizer = torch.optim.LBFGS(model.parameters()) # LBFGS.step() missing 1 required positional argument: 'closure'\n",
    "optimizer = torch.optim.RMSprop(model.parameters(), lr=0.01)\n",
    "optimizer = torch.optim.Rprop(model.parameters(), lr=0.01) # good for this example\n",
    "optimizer = torch.optim.SGD(model.parameters(), lr=0.01) # good for this example"
   ]
  },
  {
   "cell_type": "code",
   "execution_count": 243,
   "id": "4fe2ff69-dfbc-4605-b746-a7ee29dfce6c",
   "metadata": {},
   "outputs": [
    {
     "name": "stdout",
     "output_type": "stream",
     "text": [
      "Epoch 0, Loss: 28.820131301879883\n",
      "Prediction: -2.38569\n",
      "Epoch 100, Loss: 0.21291345357894897\n",
      "Prediction: 7.07452\n",
      "Epoch 200, Loss: 0.13156750798225403\n",
      "Prediction: 7.27255\n",
      "Epoch 300, Loss: 0.08130071312189102\n",
      "Prediction: 7.42816\n",
      "Epoch 400, Loss: 0.05023894086480141\n",
      "Prediction: 7.55048\n"
     ]
    }
   ],
   "source": [
    "# Training\n",
    "for epoch in range(500):\n",
    "    y_pred = model(x_data) # forward pass\n",
    "    loss = criterion(y_pred, y_data) \n",
    "    \n",
    "    if epoch % 100== 0:\n",
    "        print(f\"Epoch {epoch}, Loss: {loss.item()}\")\n",
    "        print(f\"Prediction: {model.forward(test_prediction.data).item():,.5f}\")\n",
    "    \n",
    "    optimizer.zero_grad() # set the gradients to zero\n",
    "    loss.backward() # backward pass\n",
    "    optimizer.step() # updates weights"
   ]
  },
  {
   "cell_type": "code",
   "execution_count": 244,
   "id": "952e5b54-e9ce-45e3-bd3c-9f0abf0d160b",
   "metadata": {},
   "outputs": [
    {
     "name": "stdout",
     "output_type": "stream",
     "text": [
      "Prediction: 7.6466\n"
     ]
    }
   ],
   "source": [
    "# Output after training\n",
    "test_prediction = torch.tensor([[4.]])\n",
    "print(f\"Prediction: {model.forward(test_prediction.data).item():,.4f}\")"
   ]
  },
  {
   "cell_type": "code",
   "execution_count": 245,
   "id": "3d2d6e40-0ad3-461e-90d8-d157349f1bfb",
   "metadata": {},
   "outputs": [
    {
     "data": {
      "text/plain": [
       "tensor([[7.6466]])"
      ]
     },
     "execution_count": 245,
     "metadata": {},
     "output_type": "execute_result"
    }
   ],
   "source": [
    "# wx+b\n",
    "model.linear.weight.data*test_prediction+model.linear.bias.data"
   ]
  },
  {
   "cell_type": "markdown",
   "id": "c052a752-79d5-4424-86dc-2d39805879f0",
   "metadata": {
    "jp-MarkdownHeadingCollapsed": true,
    "tags": []
   },
   "source": [
    "### 1.5. Logistic Regression"
   ]
  },
  {
   "cell_type": "code",
   "execution_count": 258,
   "id": "00d2cfcf-fa12-4301-ad6f-ced8298b2b08",
   "metadata": {},
   "outputs": [
    {
     "data": {
      "text/plain": [
       "torch.Size([6, 1])"
      ]
     },
     "execution_count": 258,
     "metadata": {},
     "output_type": "execute_result"
    }
   ],
   "source": [
    "x_data = torch.tensor([[1.],[2.],[3.],[4.],[5.], [6.]])\n",
    "y_data = torch.tensor([[0.],[0.],[0.],[1.],[1.], [1.]])\n",
    "x_data.shape"
   ]
  },
  {
   "cell_type": "code",
   "execution_count": 362,
   "id": "5c23443a-67ce-4b49-a51a-4d77b7f38bca",
   "metadata": {},
   "outputs": [],
   "source": [
    "# Basic logistic regression model\n",
    "class LogisticRegression(torch.nn.Module):\n",
    "    def __init__(self):\n",
    "        super(LogisticRegression, self).__init__()\n",
    "        \n",
    "        self.linear = torch.nn.Linear(1,1)\n",
    "        self.s = nn.Sigmoid()\n",
    "        self.r = nn.ReLU()\n",
    "        self.t = nn.Tanh()\n",
    "    \n",
    "    def forward(self, x):\n",
    "        y_pred = self.s(self.linear(x))\n",
    "        return y_pred"
   ]
  },
  {
   "cell_type": "code",
   "execution_count": 363,
   "id": "e5d8d912-bc88-4b8f-9d75-76eccbae49c2",
   "metadata": {},
   "outputs": [
    {
     "data": {
      "text/plain": [
       "LogisticRegression(\n",
       "  (linear): Linear(in_features=1, out_features=1, bias=True)\n",
       "  (s): Sigmoid()\n",
       "  (r): ReLU()\n",
       "  (t): Tanh()\n",
       ")"
      ]
     },
     "execution_count": 363,
     "metadata": {},
     "output_type": "execute_result"
    }
   ],
   "source": [
    "model = LogisticRegression()\n",
    "model"
   ]
  },
  {
   "cell_type": "code",
   "execution_count": 364,
   "id": "ca3df089-041e-4dba-b813-1346225651a2",
   "metadata": {},
   "outputs": [
    {
     "data": {
      "text/plain": [
       "tensor([[0.6271]], grad_fn=<SigmoidBackward0>)"
      ]
     },
     "execution_count": 364,
     "metadata": {},
     "output_type": "execute_result"
    }
   ],
   "source": [
    "test_prediction = torch.tensor([[4.]])\n",
    "model(test_prediction)"
   ]
  },
  {
   "cell_type": "code",
   "execution_count": 365,
   "id": "5e4fc96f-8248-46e4-98bb-2d0e1e29a107",
   "metadata": {},
   "outputs": [],
   "source": [
    "criterion = torch.nn.BCELoss()\n",
    "#criterion = torch.nn.BCEWithLogitsLoss() # for relu, tanh\n",
    "optimizer = torch.optim.SGD(model.parameters(), lr=0.01)"
   ]
  },
  {
   "cell_type": "code",
   "execution_count": 366,
   "id": "ed8f328d-8e1d-40be-b713-ad4726f726bc",
   "metadata": {
    "tags": []
   },
   "outputs": [
    {
     "name": "stdout",
     "output_type": "stream",
     "text": [
      "Epoch 0, Loss: 0.6910417675971985\n",
      "Prediction: 0.62706\n",
      "Epoch 1000, Loss: 0.4469590485095978\n",
      "Prediction: 0.69123\n",
      "Epoch 2000, Loss: 0.3385319709777832\n",
      "Prediction: 0.69831\n",
      "Epoch 3000, Loss: 0.2794446349143982\n",
      "Prediction: 0.70696\n",
      "Epoch 4000, Loss: 0.2423749417066574\n",
      "Prediction: 0.71532\n",
      "Epoch 5000, Loss: 0.21673928201198578\n",
      "Prediction: 0.72306\n",
      "Epoch 6000, Loss: 0.19777274131774902\n",
      "Prediction: 0.73018\n",
      "Epoch 7000, Loss: 0.1830432415008545\n",
      "Prediction: 0.73675\n",
      "Epoch 8000, Loss: 0.1711837500333786\n",
      "Prediction: 0.74283\n",
      "Epoch 9000, Loss: 0.1613667756319046\n",
      "Prediction: 0.74850\n"
     ]
    }
   ],
   "source": [
    "# Training\n",
    "for epoch in range(10_000):\n",
    "    y_pred = model(x_data) # forward pass\n",
    "    loss = criterion(y_pred, y_data) \n",
    "    \n",
    "    if epoch % 1000== 0:\n",
    "        print(f\"Epoch {epoch}, Loss: {loss.item()}\")\n",
    "        print(f\"Prediction: {model.forward(test_prediction.data).item():,.5f}\")\n",
    "    \n",
    "    optimizer.zero_grad() # set the gradients to zero\n",
    "    loss.backward() # backward pass\n",
    "    optimizer.step() # updates weights"
   ]
  },
  {
   "cell_type": "code",
   "execution_count": 367,
   "id": "5f6aa68a-7135-49c2-a8d9-d0d786ad9cbc",
   "metadata": {},
   "outputs": [
    {
     "data": {
      "text/plain": [
       "tensor([[0.7538]], grad_fn=<SigmoidBackward0>)"
      ]
     },
     "execution_count": 367,
     "metadata": {},
     "output_type": "execute_result"
    }
   ],
   "source": [
    "test_prediction = torch.tensor([[4.]])\n",
    "model(test_prediction)"
   ]
  },
  {
   "cell_type": "markdown",
   "id": "8a01e411-38cb-447b-b4e3-f6c82c09f04f",
   "metadata": {
    "tags": []
   },
   "source": [
    "### 1.6. Wider and deeper NeuralNetwork with a dataset"
   ]
  },
  {
   "cell_type": "code",
   "execution_count": 3,
   "id": "01d02ef4-fa7b-404f-bd63-54d80b79cf86",
   "metadata": {},
   "outputs": [
    {
     "data": {
      "text/html": [
       "<div>\n",
       "<style scoped>\n",
       "    .dataframe tbody tr th:only-of-type {\n",
       "        vertical-align: middle;\n",
       "    }\n",
       "\n",
       "    .dataframe tbody tr th {\n",
       "        vertical-align: top;\n",
       "    }\n",
       "\n",
       "    .dataframe thead th {\n",
       "        text-align: right;\n",
       "    }\n",
       "</style>\n",
       "<table border=\"1\" class=\"dataframe\">\n",
       "  <thead>\n",
       "    <tr style=\"text-align: right;\">\n",
       "      <th></th>\n",
       "      <th>-0.294118</th>\n",
       "      <th>0.487437</th>\n",
       "      <th>0.180328</th>\n",
       "      <th>-0.292929</th>\n",
       "      <th>0</th>\n",
       "      <th>0.00149028</th>\n",
       "      <th>-0.53117</th>\n",
       "      <th>-0.0333333</th>\n",
       "      <th>0.1</th>\n",
       "    </tr>\n",
       "  </thead>\n",
       "  <tbody>\n",
       "    <tr>\n",
       "      <th>0</th>\n",
       "      <td>-0.882353</td>\n",
       "      <td>-0.145729</td>\n",
       "      <td>0.081967</td>\n",
       "      <td>-0.414141</td>\n",
       "      <td>0.000000</td>\n",
       "      <td>-0.207153</td>\n",
       "      <td>-0.766866</td>\n",
       "      <td>-0.666667</td>\n",
       "      <td>1</td>\n",
       "    </tr>\n",
       "    <tr>\n",
       "      <th>1</th>\n",
       "      <td>-0.058824</td>\n",
       "      <td>0.839196</td>\n",
       "      <td>0.049180</td>\n",
       "      <td>0.000000</td>\n",
       "      <td>0.000000</td>\n",
       "      <td>-0.305514</td>\n",
       "      <td>-0.492741</td>\n",
       "      <td>-0.633333</td>\n",
       "      <td>0</td>\n",
       "    </tr>\n",
       "    <tr>\n",
       "      <th>2</th>\n",
       "      <td>-0.882353</td>\n",
       "      <td>-0.105528</td>\n",
       "      <td>0.081967</td>\n",
       "      <td>-0.535354</td>\n",
       "      <td>-0.777778</td>\n",
       "      <td>-0.162444</td>\n",
       "      <td>-0.923997</td>\n",
       "      <td>0.000000</td>\n",
       "      <td>1</td>\n",
       "    </tr>\n",
       "    <tr>\n",
       "      <th>3</th>\n",
       "      <td>0.000000</td>\n",
       "      <td>0.376884</td>\n",
       "      <td>-0.344262</td>\n",
       "      <td>-0.292929</td>\n",
       "      <td>-0.602837</td>\n",
       "      <td>0.284650</td>\n",
       "      <td>0.887276</td>\n",
       "      <td>-0.600000</td>\n",
       "      <td>0</td>\n",
       "    </tr>\n",
       "    <tr>\n",
       "      <th>4</th>\n",
       "      <td>-0.411765</td>\n",
       "      <td>0.165829</td>\n",
       "      <td>0.213115</td>\n",
       "      <td>0.000000</td>\n",
       "      <td>0.000000</td>\n",
       "      <td>-0.236960</td>\n",
       "      <td>-0.894962</td>\n",
       "      <td>-0.700000</td>\n",
       "      <td>1</td>\n",
       "    </tr>\n",
       "  </tbody>\n",
       "</table>\n",
       "</div>"
      ],
      "text/plain": [
       "   -0.294118  0.487437  0.180328  -0.292929         0  0.00149028  -0.53117  \\\n",
       "0  -0.882353 -0.145729  0.081967  -0.414141  0.000000   -0.207153 -0.766866   \n",
       "1  -0.058824  0.839196  0.049180   0.000000  0.000000   -0.305514 -0.492741   \n",
       "2  -0.882353 -0.105528  0.081967  -0.535354 -0.777778   -0.162444 -0.923997   \n",
       "3   0.000000  0.376884 -0.344262  -0.292929 -0.602837    0.284650  0.887276   \n",
       "4  -0.411765  0.165829  0.213115   0.000000  0.000000   -0.236960 -0.894962   \n",
       "\n",
       "   -0.0333333  0.1  \n",
       "0   -0.666667    1  \n",
       "1   -0.633333    0  \n",
       "2    0.000000    1  \n",
       "3   -0.600000    0  \n",
       "4   -0.700000    1  "
      ]
     },
     "execution_count": 3,
     "metadata": {},
     "output_type": "execute_result"
    }
   ],
   "source": [
    "df = pd.read_csv(\"data/diabetes.csv\", delimiter=',')\n",
    "df.head()"
   ]
  },
  {
   "cell_type": "code",
   "execution_count": 4,
   "id": "4bd8490d-73fb-4a1e-924b-d6590e049204",
   "metadata": {},
   "outputs": [
    {
     "data": {
      "text/plain": [
       "((758, 9),\n",
       " array([-0.882353 , -0.145729 ,  0.0819672, -0.414141 ,  0.       ,\n",
       "        -0.207153 , -0.766866 , -0.666667 ,  1.       ], dtype=float32))"
      ]
     },
     "execution_count": 4,
     "metadata": {},
     "output_type": "execute_result"
    }
   ],
   "source": [
    "df = df.to_numpy(dtype=np.float32)\n",
    "df.shape, df[0]"
   ]
  },
  {
   "cell_type": "code",
   "execution_count": 5,
   "id": "ce70643e-99be-441a-83b7-963c67540a83",
   "metadata": {},
   "outputs": [
    {
     "data": {
      "text/plain": [
       "1.0"
      ]
     },
     "execution_count": 5,
     "metadata": {},
     "output_type": "execute_result"
    }
   ],
   "source": [
    "df[0,-1] # will be our y value"
   ]
  },
  {
   "cell_type": "code",
   "execution_count": 6,
   "id": "81a42be5-b536-4967-84a5-e2bccf0d7721",
   "metadata": {},
   "outputs": [
    {
     "data": {
      "text/plain": [
       "(tensor([-0.8824, -0.1457,  0.0820, -0.4141,  0.0000, -0.2072, -0.7669, -0.6667]),\n",
       " tensor([1.]),\n",
       " torch.Size([758, 8]),\n",
       " torch.Size([758, 1]))"
      ]
     },
     "execution_count": 6,
     "metadata": {},
     "output_type": "execute_result"
    }
   ],
   "source": [
    "x = torch.from_numpy(df[:,:-1])\n",
    "y = torch.from_numpy(df[:,-1]).unsqueeze(dim=1)\n",
    "x[0], y[0], x.shape, y.shape"
   ]
  },
  {
   "cell_type": "markdown",
   "id": "181a71a5-470a-477d-9024-196cfbeae60c",
   "metadata": {
    "tags": []
   },
   "source": [
    "#### 1.6.1. Model 1 (3 layers, sigmoid)"
   ]
  },
  {
   "cell_type": "code",
   "execution_count": 61,
   "id": "d8dfd766-1861-4b0f-8864-4d20e3822b52",
   "metadata": {},
   "outputs": [],
   "source": [
    "# Model 1\n",
    "class Model1(torch.nn.Module):\n",
    "    def __init__(self):\n",
    "        super(Model1, self).__init__()\n",
    "        \n",
    "        self.linear1 = torch.nn.Linear(8,6)\n",
    "        self.linear2 = torch.nn.Linear(6,4)\n",
    "        self.linear3 = torch.nn.Linear(4,1)\n",
    "        \n",
    "        self.sgm = torch.nn.Sigmoid()\n",
    "    \n",
    "    def forward(self, x):\n",
    "        output = self.sgm(self.linear1(x))\n",
    "        output = self.sgm(self.linear2(output))\n",
    "        output = self.sgm(self.linear3(output))\n",
    "        \n",
    "        return output"
   ]
  },
  {
   "cell_type": "code",
   "execution_count": 62,
   "id": "2f3162eb-7809-4529-b483-c70b86a2d194",
   "metadata": {},
   "outputs": [
    {
     "data": {
      "text/plain": [
       "Model1(\n",
       "  (linear1): Linear(in_features=8, out_features=6, bias=True)\n",
       "  (linear2): Linear(in_features=6, out_features=4, bias=True)\n",
       "  (linear3): Linear(in_features=4, out_features=1, bias=True)\n",
       "  (sgm): Sigmoid()\n",
       ")"
      ]
     },
     "execution_count": 62,
     "metadata": {},
     "output_type": "execute_result"
    }
   ],
   "source": [
    "model = Model1()\n",
    "model"
   ]
  },
  {
   "cell_type": "code",
   "execution_count": 28,
   "id": "0f2bdab0-2094-45fc-ae67-399ecdc9bf0c",
   "metadata": {},
   "outputs": [],
   "source": [
    "criterion = torch.nn.BCELoss()\n",
    "optimizer = torch.optim.SGD(model.parameters(), lr=0.01)"
   ]
  },
  {
   "cell_type": "code",
   "execution_count": 29,
   "id": "15300fb9-f586-48d4-9396-33aac648e66d",
   "metadata": {},
   "outputs": [
    {
     "name": "stdout",
     "output_type": "stream",
     "text": [
      "Values from first sample of x:\n",
      " tensor([-0.8824, -0.1457,  0.0820, -0.4141,  0.0000, -0.2072, -0.7669, -0.6667]) \n",
      " Prediction: 0.6542232036590576 (true: tensor([1.]) )\n"
     ]
    }
   ],
   "source": [
    "# Prediction before training\n",
    "test_prediction = torch.tensor(x[0])\n",
    "print(\"Values from first sample of x:\\n\",test_prediction,\"\\n\",\"Prediction:\", model.forward(test_prediction.data).item(), \"(true:\", y[0].data,\")\")"
   ]
  },
  {
   "cell_type": "code",
   "execution_count": 30,
   "id": "ee16dda0-c3bc-47ef-907c-e642a7ea2161",
   "metadata": {
    "tags": []
   },
   "outputs": [
    {
     "name": "stdout",
     "output_type": "stream",
     "text": [
      "Epoch 0, Loss: -0.0\n"
     ]
    },
    {
     "ename": "KeyboardInterrupt",
     "evalue": "",
     "output_type": "error",
     "traceback": [
      "\u001b[1;31m---------------------------------------------------------------------------\u001b[0m",
      "\u001b[1;31mKeyboardInterrupt\u001b[0m                         Traceback (most recent call last)",
      "Input \u001b[1;32mIn [30]\u001b[0m, in \u001b[0;36m<cell line: 2>\u001b[1;34m()\u001b[0m\n\u001b[0;32m      1\u001b[0m \u001b[38;5;66;03m# Training\u001b[39;00m\n\u001b[0;32m      2\u001b[0m \u001b[38;5;28;01mfor\u001b[39;00m epoch \u001b[38;5;129;01min\u001b[39;00m \u001b[38;5;28mrange\u001b[39m(\u001b[38;5;241m10_000\u001b[39m):\n\u001b[1;32m----> 3\u001b[0m     y_pred \u001b[38;5;241m=\u001b[39m \u001b[43mmodel\u001b[49m\u001b[43m(\u001b[49m\u001b[43mx\u001b[49m\u001b[43m)\u001b[49m \u001b[38;5;66;03m# forward pass\u001b[39;00m\n\u001b[0;32m      4\u001b[0m     loss \u001b[38;5;241m=\u001b[39m criterion(y_pred, y) \n\u001b[0;32m      6\u001b[0m     \u001b[38;5;28;01mif\u001b[39;00m epoch \u001b[38;5;241m%\u001b[39m \u001b[38;5;241m1000\u001b[39m \u001b[38;5;241m==\u001b[39m \u001b[38;5;241m0\u001b[39m:\n",
      "File \u001b[1;32m~\\Miniconda3\\envs\\ai\\lib\\site-packages\\torch\\nn\\modules\\module.py:1110\u001b[0m, in \u001b[0;36mModule._call_impl\u001b[1;34m(self, *input, **kwargs)\u001b[0m\n\u001b[0;32m   1106\u001b[0m \u001b[38;5;66;03m# If we don't have any hooks, we want to skip the rest of the logic in\u001b[39;00m\n\u001b[0;32m   1107\u001b[0m \u001b[38;5;66;03m# this function, and just call forward.\u001b[39;00m\n\u001b[0;32m   1108\u001b[0m \u001b[38;5;28;01mif\u001b[39;00m \u001b[38;5;129;01mnot\u001b[39;00m (\u001b[38;5;28mself\u001b[39m\u001b[38;5;241m.\u001b[39m_backward_hooks \u001b[38;5;129;01mor\u001b[39;00m \u001b[38;5;28mself\u001b[39m\u001b[38;5;241m.\u001b[39m_forward_hooks \u001b[38;5;129;01mor\u001b[39;00m \u001b[38;5;28mself\u001b[39m\u001b[38;5;241m.\u001b[39m_forward_pre_hooks \u001b[38;5;129;01mor\u001b[39;00m _global_backward_hooks\n\u001b[0;32m   1109\u001b[0m         \u001b[38;5;129;01mor\u001b[39;00m _global_forward_hooks \u001b[38;5;129;01mor\u001b[39;00m _global_forward_pre_hooks):\n\u001b[1;32m-> 1110\u001b[0m     \u001b[38;5;28;01mreturn\u001b[39;00m forward_call(\u001b[38;5;241m*\u001b[39m\u001b[38;5;28minput\u001b[39m, \u001b[38;5;241m*\u001b[39m\u001b[38;5;241m*\u001b[39mkwargs)\n\u001b[0;32m   1111\u001b[0m \u001b[38;5;66;03m# Do not call functions when jit is used\u001b[39;00m\n\u001b[0;32m   1112\u001b[0m full_backward_hooks, non_full_backward_hooks \u001b[38;5;241m=\u001b[39m [], []\n",
      "Input \u001b[1;32mIn [24]\u001b[0m, in \u001b[0;36mModel2.forward\u001b[1;34m(self, x)\u001b[0m\n\u001b[0;32m     23\u001b[0m output \u001b[38;5;241m=\u001b[39m \u001b[38;5;28mself\u001b[39m\u001b[38;5;241m.\u001b[39mrelu(\u001b[38;5;28mself\u001b[39m\u001b[38;5;241m.\u001b[39mlinear3(output))\n\u001b[0;32m     24\u001b[0m output \u001b[38;5;241m=\u001b[39m \u001b[38;5;28mself\u001b[39m\u001b[38;5;241m.\u001b[39msgm(\u001b[38;5;28mself\u001b[39m\u001b[38;5;241m.\u001b[39mlinear4(output))\n\u001b[1;32m---> 25\u001b[0m output \u001b[38;5;241m=\u001b[39m \u001b[38;5;28mself\u001b[39m\u001b[38;5;241m.\u001b[39mrelu(\u001b[38;5;28;43mself\u001b[39;49m\u001b[38;5;241;43m.\u001b[39;49m\u001b[43mlinear5\u001b[49m\u001b[43m(\u001b[49m\u001b[43moutput\u001b[49m\u001b[43m)\u001b[49m)\n\u001b[0;32m     26\u001b[0m output \u001b[38;5;241m=\u001b[39m \u001b[38;5;28mself\u001b[39m\u001b[38;5;241m.\u001b[39msgm(\u001b[38;5;28mself\u001b[39m\u001b[38;5;241m.\u001b[39mlinear6(output))\n\u001b[0;32m     27\u001b[0m output \u001b[38;5;241m=\u001b[39m \u001b[38;5;28mself\u001b[39m\u001b[38;5;241m.\u001b[39mrelu(\u001b[38;5;28mself\u001b[39m\u001b[38;5;241m.\u001b[39mlinear7(output))\n",
      "File \u001b[1;32m~\\Miniconda3\\envs\\ai\\lib\\site-packages\\torch\\nn\\modules\\module.py:1110\u001b[0m, in \u001b[0;36mModule._call_impl\u001b[1;34m(self, *input, **kwargs)\u001b[0m\n\u001b[0;32m   1106\u001b[0m \u001b[38;5;66;03m# If we don't have any hooks, we want to skip the rest of the logic in\u001b[39;00m\n\u001b[0;32m   1107\u001b[0m \u001b[38;5;66;03m# this function, and just call forward.\u001b[39;00m\n\u001b[0;32m   1108\u001b[0m \u001b[38;5;28;01mif\u001b[39;00m \u001b[38;5;129;01mnot\u001b[39;00m (\u001b[38;5;28mself\u001b[39m\u001b[38;5;241m.\u001b[39m_backward_hooks \u001b[38;5;129;01mor\u001b[39;00m \u001b[38;5;28mself\u001b[39m\u001b[38;5;241m.\u001b[39m_forward_hooks \u001b[38;5;129;01mor\u001b[39;00m \u001b[38;5;28mself\u001b[39m\u001b[38;5;241m.\u001b[39m_forward_pre_hooks \u001b[38;5;129;01mor\u001b[39;00m _global_backward_hooks\n\u001b[0;32m   1109\u001b[0m         \u001b[38;5;129;01mor\u001b[39;00m _global_forward_hooks \u001b[38;5;129;01mor\u001b[39;00m _global_forward_pre_hooks):\n\u001b[1;32m-> 1110\u001b[0m     \u001b[38;5;28;01mreturn\u001b[39;00m forward_call(\u001b[38;5;241m*\u001b[39m\u001b[38;5;28minput\u001b[39m, \u001b[38;5;241m*\u001b[39m\u001b[38;5;241m*\u001b[39mkwargs)\n\u001b[0;32m   1111\u001b[0m \u001b[38;5;66;03m# Do not call functions when jit is used\u001b[39;00m\n\u001b[0;32m   1112\u001b[0m full_backward_hooks, non_full_backward_hooks \u001b[38;5;241m=\u001b[39m [], []\n",
      "File \u001b[1;32m~\\Miniconda3\\envs\\ai\\lib\\site-packages\\torch\\nn\\modules\\linear.py:103\u001b[0m, in \u001b[0;36mLinear.forward\u001b[1;34m(self, input)\u001b[0m\n\u001b[0;32m    102\u001b[0m \u001b[38;5;28;01mdef\u001b[39;00m \u001b[38;5;21mforward\u001b[39m(\u001b[38;5;28mself\u001b[39m, \u001b[38;5;28minput\u001b[39m: Tensor) \u001b[38;5;241m-\u001b[39m\u001b[38;5;241m>\u001b[39m Tensor:\n\u001b[1;32m--> 103\u001b[0m     \u001b[38;5;28;01mreturn\u001b[39;00m \u001b[43mF\u001b[49m\u001b[38;5;241;43m.\u001b[39;49m\u001b[43mlinear\u001b[49m\u001b[43m(\u001b[49m\u001b[38;5;28;43minput\u001b[39;49m\u001b[43m,\u001b[49m\u001b[43m \u001b[49m\u001b[38;5;28;43mself\u001b[39;49m\u001b[38;5;241;43m.\u001b[39;49m\u001b[43mweight\u001b[49m\u001b[43m,\u001b[49m\u001b[43m \u001b[49m\u001b[38;5;28;43mself\u001b[39;49m\u001b[38;5;241;43m.\u001b[39;49m\u001b[43mbias\u001b[49m\u001b[43m)\u001b[49m\n",
      "\u001b[1;31mKeyboardInterrupt\u001b[0m: "
     ]
    }
   ],
   "source": [
    "# Training\n",
    "for epoch in range(10_000):\n",
    "    y_pred = model(x) # forward pass\n",
    "    loss = criterion(y_pred, y) \n",
    "    \n",
    "    if epoch % 1000 == 0:\n",
    "        print(f\"Epoch {epoch}, Loss: {loss.item()}\")\n",
    "    \n",
    "    optimizer.zero_grad() # set the gradients to zero\n",
    "    loss.backward() # backward pass\n",
    "    optimizer.step() # updates weights"
   ]
  },
  {
   "cell_type": "code",
   "execution_count": null,
   "id": "31e0770e-f377-4333-bff8-710634c5694d",
   "metadata": {},
   "outputs": [],
   "source": [
    "# Prediction after training\n",
    "test_prediction = torch.tensor(x[0])\n",
    "print(\"Values from first sample of x:\\n\",test_prediction,\"\\n\",\"Prediction:\", model.forward(test_prediction.data).item(), \"(true:\", y[0].data,\")\")"
   ]
  },
  {
   "cell_type": "markdown",
   "id": "453dfeeb-5bcb-46c4-92ff-3102476dd94a",
   "metadata": {
    "jp-MarkdownHeadingCollapsed": true,
    "tags": []
   },
   "source": [
    "#### 1.6.2. Model 2 (10 layers, sigmoid)"
   ]
  },
  {
   "cell_type": "code",
   "execution_count": 70,
   "id": "de824f23-5955-4e99-a9ae-519ccc087140",
   "metadata": {},
   "outputs": [],
   "source": [
    "# Model 2\n",
    "class Model2(torch.nn.Module):\n",
    "    def __init__(self):\n",
    "        super(Model2, self).__init__()\n",
    "        \n",
    "        self.linear1 = torch.nn.Linear(8,1000)\n",
    "        self.linear2 = torch.nn.Linear(1000,900)\n",
    "        self.linear3 = torch.nn.Linear(900,800)\n",
    "        self.linear4 = torch.nn.Linear(800,700)\n",
    "        self.linear5 = torch.nn.Linear(700,600)\n",
    "        self.linear6 = torch.nn.Linear(600,500)\n",
    "        self.linear7 = torch.nn.Linear(500,400)\n",
    "        self.linear8 = torch.nn.Linear(400,300)\n",
    "        self.linear9 = torch.nn.Linear(300,200)\n",
    "        self.linear10 = torch.nn.Linear(200,1)\n",
    "        \n",
    "        self.sgm = torch.nn.Sigmoid()\n",
    "        self.relu = torch.nn.ReLU()\n",
    "    \n",
    "    def forward(self, x):\n",
    "        output = self.relu(self.linear1(x))\n",
    "        output = self.sgm(self.linear2(output))\n",
    "        output = self.relu(self.linear3(output))\n",
    "        output = self.sgm(self.linear4(output))\n",
    "        output = self.relu(self.linear5(output))\n",
    "        output = self.sgm(self.linear6(output))\n",
    "        output = self.relu(self.linear7(output))\n",
    "        output = self.sgm(self.linear8(output))\n",
    "        output = self.relu(self.linear9(output))\n",
    "        output = self.sgm(self.linear10(output))\n",
    "        \n",
    "        return output"
   ]
  },
  {
   "cell_type": "code",
   "execution_count": 82,
   "id": "2913e41c-1a6a-4d72-8d28-6e87d7f81d39",
   "metadata": {},
   "outputs": [
    {
     "data": {
      "text/plain": [
       "Model2(\n",
       "  (linear1): Linear(in_features=8, out_features=1000, bias=True)\n",
       "  (linear2): Linear(in_features=1000, out_features=900, bias=True)\n",
       "  (linear3): Linear(in_features=900, out_features=800, bias=True)\n",
       "  (linear4): Linear(in_features=800, out_features=700, bias=True)\n",
       "  (linear5): Linear(in_features=700, out_features=600, bias=True)\n",
       "  (linear6): Linear(in_features=600, out_features=500, bias=True)\n",
       "  (linear7): Linear(in_features=500, out_features=400, bias=True)\n",
       "  (linear8): Linear(in_features=400, out_features=300, bias=True)\n",
       "  (linear9): Linear(in_features=300, out_features=200, bias=True)\n",
       "  (linear10): Linear(in_features=200, out_features=1, bias=True)\n",
       "  (sgm): Sigmoid()\n",
       "  (relu): ReLU()\n",
       ")"
      ]
     },
     "execution_count": 82,
     "metadata": {},
     "output_type": "execute_result"
    }
   ],
   "source": [
    "model = Model2()\n",
    "model"
   ]
  },
  {
   "cell_type": "code",
   "execution_count": 83,
   "id": "37748a1e-4c84-4362-91a6-d88aee181a9a",
   "metadata": {},
   "outputs": [],
   "source": [
    "criterion = torch.nn.BCELoss()\n",
    "optimizer = torch.optim.Rprop(model.parameters(), lr=0.001)"
   ]
  },
  {
   "cell_type": "code",
   "execution_count": 84,
   "id": "5998952e-2c70-47b8-b0e7-19cbcf1a774c",
   "metadata": {
    "tags": []
   },
   "outputs": [
    {
     "name": "stdout",
     "output_type": "stream",
     "text": [
      "Epoch 0, Loss: 0.6864706873893738\n",
      "Epoch 10, Loss: 0.6439999938011169\n",
      "Epoch 20, Loss: 0.4930199384689331\n",
      "Epoch 30, Loss: 0.4593561887741089\n",
      "Epoch 40, Loss: 0.4329206049442291\n",
      "Epoch 50, Loss: 0.40515032410621643\n",
      "Epoch 60, Loss: 0.36090418696403503\n",
      "Epoch 70, Loss: 0.327859103679657\n",
      "Epoch 80, Loss: 0.2892993986606598\n",
      "Epoch 90, Loss: 0.2435949295759201\n"
     ]
    }
   ],
   "source": [
    "# Training\n",
    "for epoch in range(100):\n",
    "    y_pred = model(x) # forward pass\n",
    "    loss = criterion(y_pred, y) \n",
    "    \n",
    "    if epoch % 10 == 0:\n",
    "        print(f\"Epoch {epoch}, Loss: {loss.item()}\")\n",
    "    \n",
    "    optimizer.zero_grad() # set the gradients to zero\n",
    "    loss.backward() # backward pass\n",
    "    optimizer.step() # updates weights"
   ]
  },
  {
   "cell_type": "code",
   "execution_count": 86,
   "id": "353e361b-88d9-4f15-87f7-d45cf8990474",
   "metadata": {},
   "outputs": [
    {
     "name": "stdout",
     "output_type": "stream",
     "text": [
      "Values from first sample of x:\n",
      " tensor([-0.8824, -0.1457,  0.0820, -0.4141,  0.0000, -0.2072, -0.7669, -0.6667]) \n",
      " Prediction: 0.9989342093467712 (true: tensor([1.]) )\n"
     ]
    }
   ],
   "source": [
    "# Prediction before training\n",
    "test_prediction = torch.tensor(x[0])\n",
    "print(\"Values from first sample of x:\\n\",test_prediction,\"\\n\",\"Prediction:\", model.forward(test_prediction.data).item(), \"(true:\", y[0].data,\")\")"
   ]
  },
  {
   "cell_type": "markdown",
   "id": "a62c6c17-27d4-45ff-820b-a2dca04be9f8",
   "metadata": {
    "tags": []
   },
   "source": [
    "### 1.7. NeuralNetwork on titanic dataset"
   ]
  },
  {
   "cell_type": "markdown",
   "id": "61c56ba9-6a31-4128-9e04-bd464dd854d1",
   "metadata": {},
   "source": [
    "#### 1.7.1. Preprocessing"
   ]
  },
  {
   "cell_type": "code",
   "execution_count": 244,
   "id": "f437b3dd-9913-4379-890c-a5b4defe9f1c",
   "metadata": {},
   "outputs": [
    {
     "data": {
      "text/plain": [
       "((891, 12), (418, 11))"
      ]
     },
     "execution_count": 244,
     "metadata": {},
     "output_type": "execute_result"
    }
   ],
   "source": [
    "train = pd.read_csv(\"data/titanic_train.csv\")\n",
    "test = pd.read_csv(\"data/titanic_test.csv\")\n",
    "train.shape, test.shape"
   ]
  },
  {
   "cell_type": "code",
   "execution_count": 245,
   "id": "9a64d6cb-b9fc-4b95-8a55-6a1a80ade6af",
   "metadata": {},
   "outputs": [],
   "source": [
    "items_to_drop = [\"Ticket\", \"Cabin\", \"Name\", \"PassengerId\"]\n",
    "items_to_encode = [\"Sex\", \"Embarked\"]\n",
    "items_to_median = [\"SibSp\", \"Parch\", \"Fare\", \"Age\", \"Embarked\"]\n",
    "                   \n",
    "def clean(data, items_to_drop=items_to_drop, items_to_encode=items_to_encode, items_to_median=items_to_median):\n",
    "    data = data.drop(items_to_drop, axis=1)\n",
    "    for col in items_to_median:\n",
    "        if col == \"Embarked\":\n",
    "            data[col].fillna(value=\"U\", inplace=True)\n",
    "        else:\n",
    "            data[col].fillna(value=data[col].median(), inplace=True)\n",
    "    if items_to_encode:        \n",
    "        labelencoder = preprocessing.LabelEncoder()\n",
    "        print(f\"Data encoded({items_to_encode}):\")\n",
    "        for i, col in enumerate(items_to_encode):\n",
    "            data[col] = labelencoder.fit_transform(data[col])\n",
    "            for j, col2 in enumerate(labelencoder.classes_):\n",
    "                print(\"Encoding for\",col, \":\", labelencoder.classes_[j],\"has the index\",j)\n",
    "    return data"
   ]
  },
  {
   "cell_type": "code",
   "execution_count": 246,
   "id": "dd24c302-1028-41b6-a500-773ce24a5d6a",
   "metadata": {},
   "outputs": [
    {
     "data": {
      "text/html": [
       "<div>\n",
       "<style scoped>\n",
       "    .dataframe tbody tr th:only-of-type {\n",
       "        vertical-align: middle;\n",
       "    }\n",
       "\n",
       "    .dataframe tbody tr th {\n",
       "        vertical-align: top;\n",
       "    }\n",
       "\n",
       "    .dataframe thead th {\n",
       "        text-align: right;\n",
       "    }\n",
       "</style>\n",
       "<table border=\"1\" class=\"dataframe\">\n",
       "  <thead>\n",
       "    <tr style=\"text-align: right;\">\n",
       "      <th></th>\n",
       "      <th>PassengerId</th>\n",
       "      <th>Survived</th>\n",
       "      <th>Pclass</th>\n",
       "      <th>Name</th>\n",
       "      <th>Sex</th>\n",
       "      <th>Age</th>\n",
       "      <th>SibSp</th>\n",
       "      <th>Parch</th>\n",
       "      <th>Ticket</th>\n",
       "      <th>Fare</th>\n",
       "      <th>Cabin</th>\n",
       "      <th>Embarked</th>\n",
       "    </tr>\n",
       "  </thead>\n",
       "  <tbody>\n",
       "    <tr>\n",
       "      <th>0</th>\n",
       "      <td>1</td>\n",
       "      <td>0</td>\n",
       "      <td>3</td>\n",
       "      <td>Braund, Mr. Owen Harris</td>\n",
       "      <td>male</td>\n",
       "      <td>22.0</td>\n",
       "      <td>1</td>\n",
       "      <td>0</td>\n",
       "      <td>A/5 21171</td>\n",
       "      <td>7.2500</td>\n",
       "      <td>NaN</td>\n",
       "      <td>S</td>\n",
       "    </tr>\n",
       "    <tr>\n",
       "      <th>1</th>\n",
       "      <td>2</td>\n",
       "      <td>1</td>\n",
       "      <td>1</td>\n",
       "      <td>Cumings, Mrs. John Bradley (Florence Briggs Th...</td>\n",
       "      <td>female</td>\n",
       "      <td>38.0</td>\n",
       "      <td>1</td>\n",
       "      <td>0</td>\n",
       "      <td>PC 17599</td>\n",
       "      <td>71.2833</td>\n",
       "      <td>C85</td>\n",
       "      <td>C</td>\n",
       "    </tr>\n",
       "    <tr>\n",
       "      <th>2</th>\n",
       "      <td>3</td>\n",
       "      <td>1</td>\n",
       "      <td>3</td>\n",
       "      <td>Heikkinen, Miss. Laina</td>\n",
       "      <td>female</td>\n",
       "      <td>26.0</td>\n",
       "      <td>0</td>\n",
       "      <td>0</td>\n",
       "      <td>STON/O2. 3101282</td>\n",
       "      <td>7.9250</td>\n",
       "      <td>NaN</td>\n",
       "      <td>S</td>\n",
       "    </tr>\n",
       "    <tr>\n",
       "      <th>3</th>\n",
       "      <td>4</td>\n",
       "      <td>1</td>\n",
       "      <td>1</td>\n",
       "      <td>Futrelle, Mrs. Jacques Heath (Lily May Peel)</td>\n",
       "      <td>female</td>\n",
       "      <td>35.0</td>\n",
       "      <td>1</td>\n",
       "      <td>0</td>\n",
       "      <td>113803</td>\n",
       "      <td>53.1000</td>\n",
       "      <td>C123</td>\n",
       "      <td>S</td>\n",
       "    </tr>\n",
       "    <tr>\n",
       "      <th>4</th>\n",
       "      <td>5</td>\n",
       "      <td>0</td>\n",
       "      <td>3</td>\n",
       "      <td>Allen, Mr. William Henry</td>\n",
       "      <td>male</td>\n",
       "      <td>35.0</td>\n",
       "      <td>0</td>\n",
       "      <td>0</td>\n",
       "      <td>373450</td>\n",
       "      <td>8.0500</td>\n",
       "      <td>NaN</td>\n",
       "      <td>S</td>\n",
       "    </tr>\n",
       "  </tbody>\n",
       "</table>\n",
       "</div>"
      ],
      "text/plain": [
       "   PassengerId  Survived  Pclass  \\\n",
       "0            1         0       3   \n",
       "1            2         1       1   \n",
       "2            3         1       3   \n",
       "3            4         1       1   \n",
       "4            5         0       3   \n",
       "\n",
       "                                                Name     Sex   Age  SibSp  \\\n",
       "0                            Braund, Mr. Owen Harris    male  22.0      1   \n",
       "1  Cumings, Mrs. John Bradley (Florence Briggs Th...  female  38.0      1   \n",
       "2                             Heikkinen, Miss. Laina  female  26.0      0   \n",
       "3       Futrelle, Mrs. Jacques Heath (Lily May Peel)  female  35.0      1   \n",
       "4                           Allen, Mr. William Henry    male  35.0      0   \n",
       "\n",
       "   Parch            Ticket     Fare Cabin Embarked  \n",
       "0      0         A/5 21171   7.2500   NaN        S  \n",
       "1      0          PC 17599  71.2833   C85        C  \n",
       "2      0  STON/O2. 3101282   7.9250   NaN        S  \n",
       "3      0            113803  53.1000  C123        S  \n",
       "4      0            373450   8.0500   NaN        S  "
      ]
     },
     "execution_count": 246,
     "metadata": {},
     "output_type": "execute_result"
    }
   ],
   "source": [
    "train.head()"
   ]
  },
  {
   "cell_type": "code",
   "execution_count": 247,
   "id": "6d6b42cf-5bea-4fa4-bea9-60117d3405e2",
   "metadata": {},
   "outputs": [
    {
     "data": {
      "text/html": [
       "<div>\n",
       "<style scoped>\n",
       "    .dataframe tbody tr th:only-of-type {\n",
       "        vertical-align: middle;\n",
       "    }\n",
       "\n",
       "    .dataframe tbody tr th {\n",
       "        vertical-align: top;\n",
       "    }\n",
       "\n",
       "    .dataframe thead th {\n",
       "        text-align: right;\n",
       "    }\n",
       "</style>\n",
       "<table border=\"1\" class=\"dataframe\">\n",
       "  <thead>\n",
       "    <tr style=\"text-align: right;\">\n",
       "      <th></th>\n",
       "      <th>PassengerId</th>\n",
       "      <th>Pclass</th>\n",
       "      <th>Name</th>\n",
       "      <th>Sex</th>\n",
       "      <th>Age</th>\n",
       "      <th>SibSp</th>\n",
       "      <th>Parch</th>\n",
       "      <th>Ticket</th>\n",
       "      <th>Fare</th>\n",
       "      <th>Cabin</th>\n",
       "      <th>Embarked</th>\n",
       "    </tr>\n",
       "  </thead>\n",
       "  <tbody>\n",
       "    <tr>\n",
       "      <th>0</th>\n",
       "      <td>892</td>\n",
       "      <td>3</td>\n",
       "      <td>Kelly, Mr. James</td>\n",
       "      <td>male</td>\n",
       "      <td>34.5</td>\n",
       "      <td>0</td>\n",
       "      <td>0</td>\n",
       "      <td>330911</td>\n",
       "      <td>7.8292</td>\n",
       "      <td>NaN</td>\n",
       "      <td>Q</td>\n",
       "    </tr>\n",
       "    <tr>\n",
       "      <th>1</th>\n",
       "      <td>893</td>\n",
       "      <td>3</td>\n",
       "      <td>Wilkes, Mrs. James (Ellen Needs)</td>\n",
       "      <td>female</td>\n",
       "      <td>47.0</td>\n",
       "      <td>1</td>\n",
       "      <td>0</td>\n",
       "      <td>363272</td>\n",
       "      <td>7.0000</td>\n",
       "      <td>NaN</td>\n",
       "      <td>S</td>\n",
       "    </tr>\n",
       "    <tr>\n",
       "      <th>2</th>\n",
       "      <td>894</td>\n",
       "      <td>2</td>\n",
       "      <td>Myles, Mr. Thomas Francis</td>\n",
       "      <td>male</td>\n",
       "      <td>62.0</td>\n",
       "      <td>0</td>\n",
       "      <td>0</td>\n",
       "      <td>240276</td>\n",
       "      <td>9.6875</td>\n",
       "      <td>NaN</td>\n",
       "      <td>Q</td>\n",
       "    </tr>\n",
       "    <tr>\n",
       "      <th>3</th>\n",
       "      <td>895</td>\n",
       "      <td>3</td>\n",
       "      <td>Wirz, Mr. Albert</td>\n",
       "      <td>male</td>\n",
       "      <td>27.0</td>\n",
       "      <td>0</td>\n",
       "      <td>0</td>\n",
       "      <td>315154</td>\n",
       "      <td>8.6625</td>\n",
       "      <td>NaN</td>\n",
       "      <td>S</td>\n",
       "    </tr>\n",
       "    <tr>\n",
       "      <th>4</th>\n",
       "      <td>896</td>\n",
       "      <td>3</td>\n",
       "      <td>Hirvonen, Mrs. Alexander (Helga E Lindqvist)</td>\n",
       "      <td>female</td>\n",
       "      <td>22.0</td>\n",
       "      <td>1</td>\n",
       "      <td>1</td>\n",
       "      <td>3101298</td>\n",
       "      <td>12.2875</td>\n",
       "      <td>NaN</td>\n",
       "      <td>S</td>\n",
       "    </tr>\n",
       "  </tbody>\n",
       "</table>\n",
       "</div>"
      ],
      "text/plain": [
       "   PassengerId  Pclass                                          Name     Sex  \\\n",
       "0          892       3                              Kelly, Mr. James    male   \n",
       "1          893       3              Wilkes, Mrs. James (Ellen Needs)  female   \n",
       "2          894       2                     Myles, Mr. Thomas Francis    male   \n",
       "3          895       3                              Wirz, Mr. Albert    male   \n",
       "4          896       3  Hirvonen, Mrs. Alexander (Helga E Lindqvist)  female   \n",
       "\n",
       "    Age  SibSp  Parch   Ticket     Fare Cabin Embarked  \n",
       "0  34.5      0      0   330911   7.8292   NaN        Q  \n",
       "1  47.0      1      0   363272   7.0000   NaN        S  \n",
       "2  62.0      0      0   240276   9.6875   NaN        Q  \n",
       "3  27.0      0      0   315154   8.6625   NaN        S  \n",
       "4  22.0      1      1  3101298  12.2875   NaN        S  "
      ]
     },
     "execution_count": 247,
     "metadata": {},
     "output_type": "execute_result"
    }
   ],
   "source": [
    "test.head()"
   ]
  },
  {
   "cell_type": "code",
   "execution_count": 248,
   "id": "c58503e4-1f34-4781-8238-ce7cf2175b97",
   "metadata": {},
   "outputs": [
    {
     "name": "stdout",
     "output_type": "stream",
     "text": [
      "Data encoded(['Sex', 'Embarked']):\n",
      "Encoding for Sex : female has the index 0\n",
      "Encoding for Sex : male has the index 1\n",
      "Encoding for Embarked : C has the index 0\n",
      "Encoding for Embarked : Q has the index 1\n",
      "Encoding for Embarked : S has the index 2\n",
      "Encoding for Embarked : U has the index 3\n"
     ]
    },
    {
     "data": {
      "text/html": [
       "<div>\n",
       "<style scoped>\n",
       "    .dataframe tbody tr th:only-of-type {\n",
       "        vertical-align: middle;\n",
       "    }\n",
       "\n",
       "    .dataframe tbody tr th {\n",
       "        vertical-align: top;\n",
       "    }\n",
       "\n",
       "    .dataframe thead th {\n",
       "        text-align: right;\n",
       "    }\n",
       "</style>\n",
       "<table border=\"1\" class=\"dataframe\">\n",
       "  <thead>\n",
       "    <tr style=\"text-align: right;\">\n",
       "      <th></th>\n",
       "      <th>Survived</th>\n",
       "      <th>Pclass</th>\n",
       "      <th>Sex</th>\n",
       "      <th>Age</th>\n",
       "      <th>SibSp</th>\n",
       "      <th>Parch</th>\n",
       "      <th>Fare</th>\n",
       "      <th>Embarked</th>\n",
       "    </tr>\n",
       "  </thead>\n",
       "  <tbody>\n",
       "    <tr>\n",
       "      <th>0</th>\n",
       "      <td>0</td>\n",
       "      <td>3</td>\n",
       "      <td>1</td>\n",
       "      <td>22.0</td>\n",
       "      <td>1</td>\n",
       "      <td>0</td>\n",
       "      <td>7.2500</td>\n",
       "      <td>2</td>\n",
       "    </tr>\n",
       "    <tr>\n",
       "      <th>1</th>\n",
       "      <td>1</td>\n",
       "      <td>1</td>\n",
       "      <td>0</td>\n",
       "      <td>38.0</td>\n",
       "      <td>1</td>\n",
       "      <td>0</td>\n",
       "      <td>71.2833</td>\n",
       "      <td>0</td>\n",
       "    </tr>\n",
       "    <tr>\n",
       "      <th>2</th>\n",
       "      <td>1</td>\n",
       "      <td>3</td>\n",
       "      <td>0</td>\n",
       "      <td>26.0</td>\n",
       "      <td>0</td>\n",
       "      <td>0</td>\n",
       "      <td>7.9250</td>\n",
       "      <td>2</td>\n",
       "    </tr>\n",
       "    <tr>\n",
       "      <th>3</th>\n",
       "      <td>1</td>\n",
       "      <td>1</td>\n",
       "      <td>0</td>\n",
       "      <td>35.0</td>\n",
       "      <td>1</td>\n",
       "      <td>0</td>\n",
       "      <td>53.1000</td>\n",
       "      <td>2</td>\n",
       "    </tr>\n",
       "    <tr>\n",
       "      <th>4</th>\n",
       "      <td>0</td>\n",
       "      <td>3</td>\n",
       "      <td>1</td>\n",
       "      <td>35.0</td>\n",
       "      <td>0</td>\n",
       "      <td>0</td>\n",
       "      <td>8.0500</td>\n",
       "      <td>2</td>\n",
       "    </tr>\n",
       "  </tbody>\n",
       "</table>\n",
       "</div>"
      ],
      "text/plain": [
       "   Survived  Pclass  Sex   Age  SibSp  Parch     Fare  Embarked\n",
       "0         0       3    1  22.0      1      0   7.2500         2\n",
       "1         1       1    0  38.0      1      0  71.2833         0\n",
       "2         1       3    0  26.0      0      0   7.9250         2\n",
       "3         1       1    0  35.0      1      0  53.1000         2\n",
       "4         0       3    1  35.0      0      0   8.0500         2"
      ]
     },
     "execution_count": 248,
     "metadata": {},
     "output_type": "execute_result"
    }
   ],
   "source": [
    "train_clean = clean(train)\n",
    "train_clean.head()"
   ]
  },
  {
   "cell_type": "code",
   "execution_count": 249,
   "id": "37522866-f85a-4bf8-ab9c-fdc7f7256ddf",
   "metadata": {},
   "outputs": [
    {
     "name": "stdout",
     "output_type": "stream",
     "text": [
      "Data encoded(['Sex', 'Embarked']):\n",
      "Encoding for Sex : female has the index 0\n",
      "Encoding for Sex : male has the index 1\n",
      "Encoding for Embarked : C has the index 0\n",
      "Encoding for Embarked : Q has the index 1\n",
      "Encoding for Embarked : S has the index 2\n"
     ]
    },
    {
     "data": {
      "text/html": [
       "<div>\n",
       "<style scoped>\n",
       "    .dataframe tbody tr th:only-of-type {\n",
       "        vertical-align: middle;\n",
       "    }\n",
       "\n",
       "    .dataframe tbody tr th {\n",
       "        vertical-align: top;\n",
       "    }\n",
       "\n",
       "    .dataframe thead th {\n",
       "        text-align: right;\n",
       "    }\n",
       "</style>\n",
       "<table border=\"1\" class=\"dataframe\">\n",
       "  <thead>\n",
       "    <tr style=\"text-align: right;\">\n",
       "      <th></th>\n",
       "      <th>Pclass</th>\n",
       "      <th>Sex</th>\n",
       "      <th>Age</th>\n",
       "      <th>SibSp</th>\n",
       "      <th>Parch</th>\n",
       "      <th>Fare</th>\n",
       "      <th>Embarked</th>\n",
       "    </tr>\n",
       "  </thead>\n",
       "  <tbody>\n",
       "    <tr>\n",
       "      <th>0</th>\n",
       "      <td>3</td>\n",
       "      <td>1</td>\n",
       "      <td>34.5</td>\n",
       "      <td>0</td>\n",
       "      <td>0</td>\n",
       "      <td>7.8292</td>\n",
       "      <td>1</td>\n",
       "    </tr>\n",
       "    <tr>\n",
       "      <th>1</th>\n",
       "      <td>3</td>\n",
       "      <td>0</td>\n",
       "      <td>47.0</td>\n",
       "      <td>1</td>\n",
       "      <td>0</td>\n",
       "      <td>7.0000</td>\n",
       "      <td>2</td>\n",
       "    </tr>\n",
       "    <tr>\n",
       "      <th>2</th>\n",
       "      <td>2</td>\n",
       "      <td>1</td>\n",
       "      <td>62.0</td>\n",
       "      <td>0</td>\n",
       "      <td>0</td>\n",
       "      <td>9.6875</td>\n",
       "      <td>1</td>\n",
       "    </tr>\n",
       "    <tr>\n",
       "      <th>3</th>\n",
       "      <td>3</td>\n",
       "      <td>1</td>\n",
       "      <td>27.0</td>\n",
       "      <td>0</td>\n",
       "      <td>0</td>\n",
       "      <td>8.6625</td>\n",
       "      <td>2</td>\n",
       "    </tr>\n",
       "    <tr>\n",
       "      <th>4</th>\n",
       "      <td>3</td>\n",
       "      <td>0</td>\n",
       "      <td>22.0</td>\n",
       "      <td>1</td>\n",
       "      <td>1</td>\n",
       "      <td>12.2875</td>\n",
       "      <td>2</td>\n",
       "    </tr>\n",
       "  </tbody>\n",
       "</table>\n",
       "</div>"
      ],
      "text/plain": [
       "   Pclass  Sex   Age  SibSp  Parch     Fare  Embarked\n",
       "0       3    1  34.5      0      0   7.8292         1\n",
       "1       3    0  47.0      1      0   7.0000         2\n",
       "2       2    1  62.0      0      0   9.6875         1\n",
       "3       3    1  27.0      0      0   8.6625         2\n",
       "4       3    0  22.0      1      1  12.2875         2"
      ]
     },
     "execution_count": 249,
     "metadata": {},
     "output_type": "execute_result"
    }
   ],
   "source": [
    "test_cleaned = clean(test)\n",
    "test_cleaned.head()"
   ]
  },
  {
   "cell_type": "code",
   "execution_count": 250,
   "id": "1b49f9ea-e9bc-4548-b3cc-bef74388240b",
   "metadata": {},
   "outputs": [
    {
     "name": "stdout",
     "output_type": "stream",
     "text": [
      "<class 'pandas.core.frame.DataFrame'>\n",
      "RangeIndex: 891 entries, 0 to 890\n",
      "Data columns (total 8 columns):\n",
      " #   Column    Non-Null Count  Dtype  \n",
      "---  ------    --------------  -----  \n",
      " 0   Survived  891 non-null    int64  \n",
      " 1   Pclass    891 non-null    int64  \n",
      " 2   Sex       891 non-null    int32  \n",
      " 3   Age       891 non-null    float64\n",
      " 4   SibSp     891 non-null    int64  \n",
      " 5   Parch     891 non-null    int64  \n",
      " 6   Fare      891 non-null    float64\n",
      " 7   Embarked  891 non-null    int32  \n",
      "dtypes: float64(2), int32(2), int64(4)\n",
      "memory usage: 48.9 KB\n"
     ]
    }
   ],
   "source": [
    "train_clean.info()"
   ]
  },
  {
   "cell_type": "code",
   "execution_count": 251,
   "id": "de34069b-a537-4c14-89d3-498b40c9529c",
   "metadata": {},
   "outputs": [
    {
     "name": "stdout",
     "output_type": "stream",
     "text": [
      "<class 'pandas.core.frame.DataFrame'>\n",
      "RangeIndex: 418 entries, 0 to 417\n",
      "Data columns (total 7 columns):\n",
      " #   Column    Non-Null Count  Dtype  \n",
      "---  ------    --------------  -----  \n",
      " 0   Pclass    418 non-null    int64  \n",
      " 1   Sex       418 non-null    int32  \n",
      " 2   Age       418 non-null    float64\n",
      " 3   SibSp     418 non-null    int64  \n",
      " 4   Parch     418 non-null    int64  \n",
      " 5   Fare      418 non-null    float64\n",
      " 6   Embarked  418 non-null    int32  \n",
      "dtypes: float64(2), int32(2), int64(3)\n",
      "memory usage: 19.7 KB\n"
     ]
    }
   ],
   "source": [
    "test_cleaned.info()"
   ]
  },
  {
   "cell_type": "code",
   "execution_count": 252,
   "id": "7baabcc3-8137-4611-8481-92ea7b0e0e4f",
   "metadata": {},
   "outputs": [
    {
     "data": {
      "text/html": [
       "<div>\n",
       "<style scoped>\n",
       "    .dataframe tbody tr th:only-of-type {\n",
       "        vertical-align: middle;\n",
       "    }\n",
       "\n",
       "    .dataframe tbody tr th {\n",
       "        vertical-align: top;\n",
       "    }\n",
       "\n",
       "    .dataframe thead th {\n",
       "        text-align: right;\n",
       "    }\n",
       "</style>\n",
       "<table border=\"1\" class=\"dataframe\">\n",
       "  <thead>\n",
       "    <tr style=\"text-align: right;\">\n",
       "      <th></th>\n",
       "      <th>Pclass</th>\n",
       "      <th>Sex</th>\n",
       "      <th>Age</th>\n",
       "      <th>SibSp</th>\n",
       "      <th>Parch</th>\n",
       "      <th>Fare</th>\n",
       "      <th>Embarked</th>\n",
       "    </tr>\n",
       "  </thead>\n",
       "  <tbody>\n",
       "    <tr>\n",
       "      <th>0</th>\n",
       "      <td>3</td>\n",
       "      <td>1</td>\n",
       "      <td>22.0</td>\n",
       "      <td>1</td>\n",
       "      <td>0</td>\n",
       "      <td>7.2500</td>\n",
       "      <td>2</td>\n",
       "    </tr>\n",
       "    <tr>\n",
       "      <th>1</th>\n",
       "      <td>1</td>\n",
       "      <td>0</td>\n",
       "      <td>38.0</td>\n",
       "      <td>1</td>\n",
       "      <td>0</td>\n",
       "      <td>71.2833</td>\n",
       "      <td>0</td>\n",
       "    </tr>\n",
       "    <tr>\n",
       "      <th>2</th>\n",
       "      <td>3</td>\n",
       "      <td>0</td>\n",
       "      <td>26.0</td>\n",
       "      <td>0</td>\n",
       "      <td>0</td>\n",
       "      <td>7.9250</td>\n",
       "      <td>2</td>\n",
       "    </tr>\n",
       "    <tr>\n",
       "      <th>3</th>\n",
       "      <td>1</td>\n",
       "      <td>0</td>\n",
       "      <td>35.0</td>\n",
       "      <td>1</td>\n",
       "      <td>0</td>\n",
       "      <td>53.1000</td>\n",
       "      <td>2</td>\n",
       "    </tr>\n",
       "    <tr>\n",
       "      <th>4</th>\n",
       "      <td>3</td>\n",
       "      <td>1</td>\n",
       "      <td>35.0</td>\n",
       "      <td>0</td>\n",
       "      <td>0</td>\n",
       "      <td>8.0500</td>\n",
       "      <td>2</td>\n",
       "    </tr>\n",
       "  </tbody>\n",
       "</table>\n",
       "</div>"
      ],
      "text/plain": [
       "   Pclass  Sex   Age  SibSp  Parch     Fare  Embarked\n",
       "0       3    1  22.0      1      0   7.2500         2\n",
       "1       1    0  38.0      1      0  71.2833         0\n",
       "2       3    0  26.0      0      0   7.9250         2\n",
       "3       1    0  35.0      1      0  53.1000         2\n",
       "4       3    1  35.0      0      0   8.0500         2"
      ]
     },
     "execution_count": 252,
     "metadata": {},
     "output_type": "execute_result"
    }
   ],
   "source": [
    "X = train_clean.drop(\"Survived\", axis=1)\n",
    "y = train_clean[\"Survived\"]\n",
    "X.head()"
   ]
  },
  {
   "cell_type": "code",
   "execution_count": 253,
   "id": "d53421a8-1c21-4d36-92e3-078b42ffd6b5",
   "metadata": {},
   "outputs": [
    {
     "data": {
      "text/plain": [
       "0    0\n",
       "1    1\n",
       "2    1\n",
       "Name: Survived, dtype: int64"
      ]
     },
     "execution_count": 253,
     "metadata": {},
     "output_type": "execute_result"
    }
   ],
   "source": [
    "y[:3]"
   ]
  },
  {
   "cell_type": "code",
   "execution_count": 254,
   "id": "37503adb-fc20-4c87-92e6-299fd44f0f64",
   "metadata": {},
   "outputs": [],
   "source": [
    "X = X.to_numpy(dtype=np.float32)"
   ]
  },
  {
   "cell_type": "code",
   "execution_count": 255,
   "id": "3739490a-9ab7-4dc2-9871-8fc033428c0c",
   "metadata": {},
   "outputs": [
    {
     "data": {
      "text/plain": [
       "array([ 3.  ,  1.  , 22.  ,  1.  ,  0.  ,  7.25,  2.  ], dtype=float32)"
      ]
     },
     "execution_count": 255,
     "metadata": {},
     "output_type": "execute_result"
    }
   ],
   "source": [
    "X[0]"
   ]
  },
  {
   "cell_type": "code",
   "execution_count": 256,
   "id": "6211d1ab-bc97-471b-8a88-3e6e638596bc",
   "metadata": {},
   "outputs": [],
   "source": [
    "y = y.to_numpy(dtype=np.float32)"
   ]
  },
  {
   "cell_type": "code",
   "execution_count": 257,
   "id": "cff9a2da-8724-414e-abaa-91f0f300f117",
   "metadata": {},
   "outputs": [
    {
     "data": {
      "text/plain": [
       "array([0., 1., 1.], dtype=float32)"
      ]
     },
     "execution_count": 257,
     "metadata": {},
     "output_type": "execute_result"
    }
   ],
   "source": [
    "y[:3]"
   ]
  },
  {
   "cell_type": "code",
   "execution_count": 258,
   "id": "726077f4-e2ea-47f0-b303-f050dbadcf74",
   "metadata": {},
   "outputs": [
    {
     "data": {
      "text/plain": [
       "(torch.Size([891, 7]), torch.Size([891, 1]))"
      ]
     },
     "execution_count": 258,
     "metadata": {},
     "output_type": "execute_result"
    }
   ],
   "source": [
    "X = torch.from_numpy(X)\n",
    "y = torch.from_numpy(y).unsqueeze(dim=1)\n",
    "X.shape, y.shape"
   ]
  },
  {
   "cell_type": "code",
   "execution_count": 259,
   "id": "3c898d83-1036-40c5-9dea-33d9d3d521a1",
   "metadata": {},
   "outputs": [],
   "source": [
    "X_train, X_val, y_train, y_val = train_test_split(X,y, test_size=0.2, random_state=42)"
   ]
  },
  {
   "cell_type": "code",
   "execution_count": 261,
   "id": "9b6ade17-edd4-4c7c-b034-ecbd5d926a1a",
   "metadata": {},
   "outputs": [
    {
     "data": {
      "text/plain": [
       "(torch.Size([712, 7]),\n",
       " torch.Size([179, 7]),\n",
       " torch.Size([712, 1]),\n",
       " torch.Size([179, 1]))"
      ]
     },
     "execution_count": 261,
     "metadata": {},
     "output_type": "execute_result"
    }
   ],
   "source": [
    "X_train.shape, X_val.shape, y_train.shape, y_val.shape"
   ]
  },
  {
   "cell_type": "markdown",
   "id": "65508601-6d14-4e29-abf6-ea8c602925fc",
   "metadata": {},
   "source": [
    "#### 1.7.2. NeuralNetwork"
   ]
  },
  {
   "cell_type": "code",
   "execution_count": 262,
   "id": "fcd790d3-5421-42f2-877d-cb2d4918b2cb",
   "metadata": {},
   "outputs": [],
   "source": [
    "# Model Titanic\n",
    "class ModelTitanic(torch.nn.Module):\n",
    "    def __init__(self):\n",
    "        super(ModelTitanic, self).__init__()\n",
    "        \n",
    "        self.linear1 = torch.nn.Linear(7,100)\n",
    "        self.linear2 = torch.nn.Linear(100,50)\n",
    "        self.linear3 = torch.nn.Linear(50,1)\n",
    "        \n",
    "        self.sgm = torch.nn.Sigmoid()\n",
    "        self.relu = torch.nn.ReLU()\n",
    "    \n",
    "    def forward(self, x):\n",
    "        output = self.relu(self.linear1(x))\n",
    "        output = self.sgm(self.linear2(output))\n",
    "        output = self.sgm(self.linear3(output))\n",
    "        \n",
    "        return output"
   ]
  },
  {
   "cell_type": "code",
   "execution_count": 263,
   "id": "c61b7a47-7648-43d7-b49f-3b380363e42f",
   "metadata": {},
   "outputs": [
    {
     "data": {
      "text/plain": [
       "ModelTitanic(\n",
       "  (linear1): Linear(in_features=7, out_features=100, bias=True)\n",
       "  (linear2): Linear(in_features=100, out_features=50, bias=True)\n",
       "  (linear3): Linear(in_features=50, out_features=1, bias=True)\n",
       "  (sgm): Sigmoid()\n",
       "  (relu): ReLU()\n",
       ")"
      ]
     },
     "execution_count": 263,
     "metadata": {},
     "output_type": "execute_result"
    }
   ],
   "source": [
    "model = ModelTitanic()\n",
    "model"
   ]
  },
  {
   "cell_type": "code",
   "execution_count": 265,
   "id": "24224402-0220-4c60-b7ff-01eed5a4b15c",
   "metadata": {},
   "outputs": [],
   "source": [
    "criterion = torch.nn.BCELoss()\n",
    "optimizer = torch.optim.SGD(model.parameters(), lr=0.01)"
   ]
  },
  {
   "cell_type": "code",
   "execution_count": 266,
   "id": "825de7bd-1fc1-4594-9a3d-d5afa9c10a3a",
   "metadata": {},
   "outputs": [
    {
     "name": "stdout",
     "output_type": "stream",
     "text": [
      "Epoch 0, Loss: 0.6961296200752258\n",
      "Epoch 100, Loss: 0.6157055497169495\n",
      "Epoch 200, Loss: 0.6103594303131104\n",
      "Epoch 300, Loss: 0.6078658699989319\n",
      "Epoch 400, Loss: 0.6060410141944885\n",
      "Epoch 500, Loss: 0.6045411825180054\n",
      "Epoch 600, Loss: 0.6031992435455322\n",
      "Epoch 700, Loss: 0.6019114255905151\n",
      "Epoch 800, Loss: 0.600620448589325\n",
      "Epoch 900, Loss: 0.5992788672447205\n"
     ]
    }
   ],
   "source": [
    "# Training\n",
    "for epoch in range(1000):\n",
    "    y_pred = model(X_train) # forward pass\n",
    "    loss = criterion(y_pred, y_train) \n",
    "    \n",
    "    if epoch % 100 == 0:\n",
    "        print(f\"Epoch {epoch}, Loss: {loss.item()}\")\n",
    "    \n",
    "    optimizer.zero_grad() # set the gradients to zero\n",
    "    loss.backward() # backward pass\n",
    "    optimizer.step() # updates weights"
   ]
  },
  {
   "cell_type": "code",
   "execution_count": null,
   "id": "2b9f6da8-8e3a-4524-bba9-b02865f6526b",
   "metadata": {},
   "outputs": [],
   "source": [
    "# Evaluation on validation set X_val vs y_val"
   ]
  },
  {
   "cell_type": "code",
   "execution_count": 268,
   "id": "de59cece-1826-4854-b0fc-59a866e97477",
   "metadata": {},
   "outputs": [
    {
     "data": {
      "text/plain": [
       "tensor([[0.3337],\n",
       "        [0.2598],\n",
       "        [0.2779],\n",
       "        [0.5895],\n",
       "        [0.3924]], grad_fn=<SliceBackward0>)"
      ]
     },
     "execution_count": 268,
     "metadata": {},
     "output_type": "execute_result"
    }
   ],
   "source": [
    "pred_validation = model.forward(X_val)\n",
    "pred_validation[:5]"
   ]
  },
  {
   "cell_type": "code",
   "execution_count": 286,
   "id": "583dc0b2-ba4c-484c-a5bb-ccf11c46180c",
   "metadata": {},
   "outputs": [
    {
     "data": {
      "text/plain": [
       "tensor([[0.],\n",
       "        [0.],\n",
       "        [0.],\n",
       "        [1.],\n",
       "        [0.]])"
      ]
     },
     "execution_count": 286,
     "metadata": {},
     "output_type": "execute_result"
    }
   ],
   "source": [
    "pred_validation = (pred_validation>=0.5).float()\n",
    "pred_validation[:5]"
   ]
  },
  {
   "cell_type": "code",
   "execution_count": 287,
   "id": "f012097b-900a-4021-ba22-874d0d9fc8df",
   "metadata": {},
   "outputs": [
    {
     "data": {
      "text/plain": [
       "(torch.Size([179, 1]), torch.Size([179, 1]))"
      ]
     },
     "execution_count": 287,
     "metadata": {},
     "output_type": "execute_result"
    }
   ],
   "source": [
    "pred_validation.shape, y_val.shape"
   ]
  },
  {
   "cell_type": "code",
   "execution_count": 297,
   "id": "263f1d2f-cf57-44ac-bf6f-49c9e205bbdf",
   "metadata": {},
   "outputs": [
    {
     "data": {
      "text/plain": [
       "array([94, 11, 40, 34], dtype=int64)"
      ]
     },
     "execution_count": 297,
     "metadata": {},
     "output_type": "execute_result"
    }
   ],
   "source": [
    "confusion = confusion_matrix(y_true=y_val,y_pred=pred_validation)\n",
    "confusion.ravel() # (tn, fp, fn, tp)"
   ]
  },
  {
   "cell_type": "code",
   "execution_count": 291,
   "id": "1d9cebce-cb26-45d3-9484-19c4e8154e2c",
   "metadata": {},
   "outputs": [
    {
     "data": {
      "text/plain": [
       "<AxesSubplot:>"
      ]
     },
     "execution_count": 291,
     "metadata": {},
     "output_type": "execute_result"
    },
    {
     "data": {
      "image/png": "[encoded data removed]",
      "text/plain": [
       "<Figure size 432x288 with 2 Axes>"
      ]
     },
     "metadata": {
      "needs_background": "light"
     },
     "output_type": "display_data"
    }
   ],
   "source": [
    "sns.heatmap(confusion, annot=True)"
   ]
  },
  {
   "cell_type": "code",
   "execution_count": 298,
   "id": "7bbc143d-8ccf-44f2-a07f-cf39b699c703",
   "metadata": {},
   "outputs": [
    {
     "data": {
      "text/plain": [
       "0.7150837988826816"
      ]
     },
     "execution_count": 298,
     "metadata": {},
     "output_type": "execute_result"
    }
   ],
   "source": [
    "accuracy_score(y_true=y_val, y_pred=pred_validation)"
   ]
  },
  {
   "cell_type": "markdown",
   "id": "458b4a30-4859-4bc5-a427-13cab975c596",
   "metadata": {},
   "source": [
    "#### 1.7.3. Prepare for Kaggle"
   ]
  },
  {
   "cell_type": "code",
   "execution_count": 194,
   "id": "d0704e87-35bf-4696-9686-6935031d9b95",
   "metadata": {},
   "outputs": [
    {
     "data": {
      "text/html": [
       "<div>\n",
       "<style scoped>\n",
       "    .dataframe tbody tr th:only-of-type {\n",
       "        vertical-align: middle;\n",
       "    }\n",
       "\n",
       "    .dataframe tbody tr th {\n",
       "        vertical-align: top;\n",
       "    }\n",
       "\n",
       "    .dataframe thead th {\n",
       "        text-align: right;\n",
       "    }\n",
       "</style>\n",
       "<table border=\"1\" class=\"dataframe\">\n",
       "  <thead>\n",
       "    <tr style=\"text-align: right;\">\n",
       "      <th></th>\n",
       "      <th>Pclass</th>\n",
       "      <th>Sex</th>\n",
       "      <th>Age</th>\n",
       "      <th>SibSp</th>\n",
       "      <th>Parch</th>\n",
       "      <th>Fare</th>\n",
       "      <th>Embarked</th>\n",
       "    </tr>\n",
       "  </thead>\n",
       "  <tbody>\n",
       "    <tr>\n",
       "      <th>0</th>\n",
       "      <td>3</td>\n",
       "      <td>1</td>\n",
       "      <td>34.5</td>\n",
       "      <td>0</td>\n",
       "      <td>0</td>\n",
       "      <td>7.8292</td>\n",
       "      <td>1</td>\n",
       "    </tr>\n",
       "    <tr>\n",
       "      <th>1</th>\n",
       "      <td>3</td>\n",
       "      <td>0</td>\n",
       "      <td>47.0</td>\n",
       "      <td>1</td>\n",
       "      <td>0</td>\n",
       "      <td>7.0000</td>\n",
       "      <td>2</td>\n",
       "    </tr>\n",
       "    <tr>\n",
       "      <th>2</th>\n",
       "      <td>2</td>\n",
       "      <td>1</td>\n",
       "      <td>62.0</td>\n",
       "      <td>0</td>\n",
       "      <td>0</td>\n",
       "      <td>9.6875</td>\n",
       "      <td>1</td>\n",
       "    </tr>\n",
       "    <tr>\n",
       "      <th>3</th>\n",
       "      <td>3</td>\n",
       "      <td>1</td>\n",
       "      <td>27.0</td>\n",
       "      <td>0</td>\n",
       "      <td>0</td>\n",
       "      <td>8.6625</td>\n",
       "      <td>2</td>\n",
       "    </tr>\n",
       "    <tr>\n",
       "      <th>4</th>\n",
       "      <td>3</td>\n",
       "      <td>0</td>\n",
       "      <td>22.0</td>\n",
       "      <td>1</td>\n",
       "      <td>1</td>\n",
       "      <td>12.2875</td>\n",
       "      <td>2</td>\n",
       "    </tr>\n",
       "    <tr>\n",
       "      <th>...</th>\n",
       "      <td>...</td>\n",
       "      <td>...</td>\n",
       "      <td>...</td>\n",
       "      <td>...</td>\n",
       "      <td>...</td>\n",
       "      <td>...</td>\n",
       "      <td>...</td>\n",
       "    </tr>\n",
       "    <tr>\n",
       "      <th>413</th>\n",
       "      <td>3</td>\n",
       "      <td>1</td>\n",
       "      <td>27.0</td>\n",
       "      <td>0</td>\n",
       "      <td>0</td>\n",
       "      <td>8.0500</td>\n",
       "      <td>2</td>\n",
       "    </tr>\n",
       "    <tr>\n",
       "      <th>414</th>\n",
       "      <td>1</td>\n",
       "      <td>0</td>\n",
       "      <td>39.0</td>\n",
       "      <td>0</td>\n",
       "      <td>0</td>\n",
       "      <td>108.9000</td>\n",
       "      <td>0</td>\n",
       "    </tr>\n",
       "    <tr>\n",
       "      <th>415</th>\n",
       "      <td>3</td>\n",
       "      <td>1</td>\n",
       "      <td>38.5</td>\n",
       "      <td>0</td>\n",
       "      <td>0</td>\n",
       "      <td>7.2500</td>\n",
       "      <td>2</td>\n",
       "    </tr>\n",
       "    <tr>\n",
       "      <th>416</th>\n",
       "      <td>3</td>\n",
       "      <td>1</td>\n",
       "      <td>27.0</td>\n",
       "      <td>0</td>\n",
       "      <td>0</td>\n",
       "      <td>8.0500</td>\n",
       "      <td>2</td>\n",
       "    </tr>\n",
       "    <tr>\n",
       "      <th>417</th>\n",
       "      <td>3</td>\n",
       "      <td>1</td>\n",
       "      <td>27.0</td>\n",
       "      <td>1</td>\n",
       "      <td>1</td>\n",
       "      <td>22.3583</td>\n",
       "      <td>0</td>\n",
       "    </tr>\n",
       "  </tbody>\n",
       "</table>\n",
       "<p>418 rows × 7 columns</p>\n",
       "</div>"
      ],
      "text/plain": [
       "     Pclass  Sex   Age  SibSp  Parch      Fare  Embarked\n",
       "0         3    1  34.5      0      0    7.8292         1\n",
       "1         3    0  47.0      1      0    7.0000         2\n",
       "2         2    1  62.0      0      0    9.6875         1\n",
       "3         3    1  27.0      0      0    8.6625         2\n",
       "4         3    0  22.0      1      1   12.2875         2\n",
       "..      ...  ...   ...    ...    ...       ...       ...\n",
       "413       3    1  27.0      0      0    8.0500         2\n",
       "414       1    0  39.0      0      0  108.9000         0\n",
       "415       3    1  38.5      0      0    7.2500         2\n",
       "416       3    1  27.0      0      0    8.0500         2\n",
       "417       3    1  27.0      1      1   22.3583         0\n",
       "\n",
       "[418 rows x 7 columns]"
      ]
     },
     "execution_count": 194,
     "metadata": {},
     "output_type": "execute_result"
    }
   ],
   "source": [
    "test_cleaned"
   ]
  },
  {
   "cell_type": "code",
   "execution_count": 223,
   "id": "000c3bed-82e6-4edb-a959-27d61fcc55ea",
   "metadata": {},
   "outputs": [],
   "source": [
    "X_test = test_cleaned.to_numpy(dtype=np.float32)"
   ]
  },
  {
   "cell_type": "code",
   "execution_count": 224,
   "id": "b2db52a8-d9de-4149-9646-f749d4cb3eaf",
   "metadata": {},
   "outputs": [],
   "source": [
    "X_test = torch.from_numpy(X_test)"
   ]
  },
  {
   "cell_type": "code",
   "execution_count": 225,
   "id": "bef69f6a-8a89-4f71-b81b-b39d42b071ee",
   "metadata": {},
   "outputs": [
    {
     "data": {
      "text/plain": [
       "(torch.Size([418, 7]), torch.Size([891, 7]))"
      ]
     },
     "execution_count": 225,
     "metadata": {},
     "output_type": "execute_result"
    }
   ],
   "source": [
    "X_test.shape, X.shape # now it has the same shape as the input X for the NN train process"
   ]
  },
  {
   "cell_type": "code",
   "execution_count": 226,
   "id": "4a62fa78-886b-45dd-8344-e2d0c2042bb1",
   "metadata": {},
   "outputs": [],
   "source": [
    "predictions = model.forward(X_test)"
   ]
  },
  {
   "cell_type": "code",
   "execution_count": 227,
   "id": "8522c435-a466-47bd-90e4-07c000e9d0f7",
   "metadata": {},
   "outputs": [
    {
     "data": {
      "text/plain": [
       "tensor([[0.1957],\n",
       "        [0.1464],\n",
       "        [0.1398],\n",
       "        [0.2392],\n",
       "        [0.3333],\n",
       "        [0.3555],\n",
       "        [0.2244],\n",
       "        [0.4775],\n",
       "        [0.3160],\n",
       "        [0.4580],\n",
       "        [0.2275],\n",
       "        [0.3721],\n",
       "        [0.6797],\n",
       "        [0.2954],\n",
       "        [0.5608]], grad_fn=<SliceBackward0>)"
      ]
     },
     "execution_count": 227,
     "metadata": {},
     "output_type": "execute_result"
    }
   ],
   "source": [
    "predictions[:15]#predictions>0.5"
   ]
  },
  {
   "cell_type": "code",
   "execution_count": 228,
   "id": "ecaa41b3-395b-4582-a257-8911ffe632d9",
   "metadata": {},
   "outputs": [],
   "source": [
    "predictions[predictions >= 0.5] = 1\n",
    "predictions[predictions < 0.5] = 0"
   ]
  },
  {
   "cell_type": "code",
   "execution_count": 229,
   "id": "0c9e4c53-60f5-4398-b4ab-c0f12497c61f",
   "metadata": {},
   "outputs": [],
   "source": [
    "predictions = predictions.detach().numpy()"
   ]
  },
  {
   "cell_type": "code",
   "execution_count": 234,
   "id": "62344475-4549-4301-8a3f-b62746fd46d9",
   "metadata": {},
   "outputs": [
    {
     "data": {
      "text/plain": [
       "array([[0.],\n",
       "       [0.],\n",
       "       [0.],\n",
       "       [0.],\n",
       "       [0.]], dtype=float32)"
      ]
     },
     "execution_count": 234,
     "metadata": {},
     "output_type": "execute_result"
    }
   ],
   "source": [
    "predictions[:5]#.astype(np.int32)"
   ]
  },
  {
   "cell_type": "code",
   "execution_count": 236,
   "id": "fabc6924-72e4-431e-bb49-65e1ff3a971e",
   "metadata": {},
   "outputs": [],
   "source": [
    "predictions = predictions.squeeze()"
   ]
  },
  {
   "cell_type": "code",
   "execution_count": 238,
   "id": "1da014d3-f002-435f-b3df-51b885b129a7",
   "metadata": {},
   "outputs": [],
   "source": [
    "predictions = predictions.astype(np.int32)"
   ]
  },
  {
   "cell_type": "code",
   "execution_count": 239,
   "id": "ac173205-e828-4576-9f3e-d27b247c552d",
   "metadata": {},
   "outputs": [
    {
     "data": {
      "text/plain": [
       "array([0, 0, 0, 0, 0])"
      ]
     },
     "execution_count": 239,
     "metadata": {},
     "output_type": "execute_result"
    }
   ],
   "source": [
    "predictions[:5]"
   ]
  },
  {
   "cell_type": "code",
   "execution_count": 241,
   "id": "dc080c6c-f39a-4332-96f9-9bbea7e0f845",
   "metadata": {},
   "outputs": [
    {
     "data": {
      "text/plain": [
       "892"
      ]
     },
     "execution_count": 241,
     "metadata": {},
     "output_type": "execute_result"
    }
   ],
   "source": [
    "test.values[0,0]"
   ]
  },
  {
   "cell_type": "markdown",
   "id": "a1c44c18-99cf-4e98-b753-6d8f22c4c486",
   "metadata": {},
   "source": [
    "#### 1.7.4. Save in needed submission-format as csv file"
   ]
  },
  {
   "cell_type": "code",
   "execution_count": 242,
   "id": "ee8b9614-9aae-48e9-8993-67d98c8b4cea",
   "metadata": {},
   "outputs": [
    {
     "data": {
      "text/html": [
       "<div>\n",
       "<style scoped>\n",
       "    .dataframe tbody tr th:only-of-type {\n",
       "        vertical-align: middle;\n",
       "    }\n",
       "\n",
       "    .dataframe tbody tr th {\n",
       "        vertical-align: top;\n",
       "    }\n",
       "\n",
       "    .dataframe thead th {\n",
       "        text-align: right;\n",
       "    }\n",
       "</style>\n",
       "<table border=\"1\" class=\"dataframe\">\n",
       "  <thead>\n",
       "    <tr style=\"text-align: right;\">\n",
       "      <th></th>\n",
       "      <th>PassengerId</th>\n",
       "      <th>Survived</th>\n",
       "    </tr>\n",
       "  </thead>\n",
       "  <tbody>\n",
       "    <tr>\n",
       "      <th>0</th>\n",
       "      <td>892</td>\n",
       "      <td>0</td>\n",
       "    </tr>\n",
       "    <tr>\n",
       "      <th>1</th>\n",
       "      <td>893</td>\n",
       "      <td>0</td>\n",
       "    </tr>\n",
       "    <tr>\n",
       "      <th>2</th>\n",
       "      <td>894</td>\n",
       "      <td>0</td>\n",
       "    </tr>\n",
       "    <tr>\n",
       "      <th>3</th>\n",
       "      <td>895</td>\n",
       "      <td>0</td>\n",
       "    </tr>\n",
       "    <tr>\n",
       "      <th>4</th>\n",
       "      <td>896</td>\n",
       "      <td>0</td>\n",
       "    </tr>\n",
       "  </tbody>\n",
       "</table>\n",
       "</div>"
      ],
      "text/plain": [
       "  PassengerId  Survived\n",
       "0         892         0\n",
       "1         893         0\n",
       "2         894         0\n",
       "3         895         0\n",
       "4         896         0"
      ]
     },
     "execution_count": 242,
     "metadata": {},
     "output_type": "execute_result"
    }
   ],
   "source": [
    "df_submission = pd.DataFrame(\n",
    "    {\n",
    "     \"PassengerId\": test.values[:,0],\n",
    "     \"Survived\": predictions,\n",
    "    }\n",
    ")\n",
    "df_submission.head()"
   ]
  },
  {
   "cell_type": "code",
   "execution_count": 299,
   "id": "1870f5b3-e46d-4fe2-9bdd-a9a1db85102a",
   "metadata": {},
   "outputs": [],
   "source": [
    "#df_submission.to_csv(\"out/submission_pytorch.csv\", index=False)"
   ]
  },
  {
   "cell_type": "code",
   "execution_count": null,
   "id": "488e3478-68f8-4daf-914f-83c0efcc710f",
   "metadata": {},
   "outputs": [],
   "source": []
  }
 ],
 "metadata": {
  "kernelspec": {
   "display_name": "ai",
   "language": "python",
   "name": "ai"
  },
  "language_info": {
   "codemirror_mode": {
    "name": "ipython",
    "version": 3
   },
   "file_extension": ".py",
   "mimetype": "text/x-python",
   "name": "python",
   "nbconvert_exporter": "python",
   "pygments_lexer": "ipython3",
   "version": "3.10.4"
  }
 },
 "nbformat": 4,
 "nbformat_minor": 5
}
